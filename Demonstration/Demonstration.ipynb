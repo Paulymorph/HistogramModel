{
 "cells": [
  {
   "cell_type": "code",
   "execution_count": 1,
   "metadata": {
    "scrolled": true
   },
   "outputs": [
    {
     "data": {
      "text/plain": [
       "\u001b[36mpath\u001b[39m: \u001b[32mjava\u001b[39m.\u001b[32mnio\u001b[39m.\u001b[32mfile\u001b[39m.\u001b[32mPath\u001b[39m = /Users/pauldanilin/Documents/HSE/CourseWorks/HistogramModel/target/scala-2.11/histogrammodel_2.11-0.1.jar\n",
       "\u001b[36mx\u001b[39m: \u001b[32mammonite\u001b[39m.\u001b[32mops\u001b[39m.\u001b[32mPath\u001b[39m = /Users/pauldanilin/Documents/HSE/CourseWorks/HistogramModel/target/scala-2.11/histogrammodel_2.11-0.1.jar"
      ]
     },
     "execution_count": 1,
     "metadata": {},
     "output_type": "execute_result"
    }
   ],
   "source": [
    "val path = java.nio.file.FileSystems.getDefault().getPath(\"/Users/pauldanilin/Documents/HSE/CourseWorks/HistogramModel/target/scala-2.11/histogrammodel_2.11-0.1.jar\")\n",
    "val x = ammonite.ops.Path(path)\n",
    "interp.load.cp(x)"
   ]
  },
  {
   "cell_type": "code",
   "execution_count": 2,
   "metadata": {},
   "outputs": [
    {
     "data": {
      "text/html": [
       "\n",
       "      <script type=\"text/javascript\">\n",
       "        require.config({\n",
       "  paths: {\n",
       "    d3: 'https://cdnjs.cloudflare.com/ajax/libs/d3/3.5.17/d3.min',\n",
       "    plotly: 'https://cdn.plot.ly/plotly-1.12.0.min'\n",
       "  },\n",
       "\n",
       "  shim: {\n",
       "    plotly: {\n",
       "      deps: ['d3', 'jquery'],\n",
       "      exports: 'plotly'\n",
       "    }\n",
       "  }\n",
       "});\n",
       "        \n",
       "\n",
       "        require(['plotly'], function(Plotly) {\n",
       "          window.Plotly = Plotly;\n",
       "        });\n",
       "      </script>\n",
       "    "
      ]
     },
     "metadata": {},
     "output_type": "display_data"
    },
    {
     "data": {
      "text/plain": [
       "\u001b[32mimport \u001b[39m\u001b[36mru.hse.se.ba.danilin.paul.histogram_model.histogram.Implicits._\n",
       "\u001b[39m\n",
       "\u001b[32mimport \u001b[39m\u001b[36mru.hse.se.ba.danilin.paul.histogram_model.histogram.Histogram\n",
       "\n",
       "\u001b[39m\n",
       "\u001b[32mimport \u001b[39m\u001b[36m$ivy.$                                             \n",
       "\n",
       "\u001b[39m\n",
       "\u001b[32mimport \u001b[39m\u001b[36mplotly._\n",
       "\u001b[39m\n",
       "\u001b[32mimport \u001b[39m\u001b[36mplotly.element._\n",
       "\u001b[39m\n",
       "\u001b[32mimport \u001b[39m\u001b[36mplotly.layout._\n",
       "\u001b[39m\n",
       "\u001b[32mimport \u001b[39m\u001b[36mplotly.JupyterScala._\n",
       "\n",
       "\u001b[39m"
      ]
     },
     "execution_count": 2,
     "metadata": {},
     "output_type": "execute_result"
    }
   ],
   "source": [
    "import ru.hse.se.ba.danilin.paul.histogram_model.histogram.Implicits._\n",
    "import ru.hse.se.ba.danilin.paul.histogram_model.histogram.Histogram\n",
    "\n",
    "import $ivy.`org.plotly-scala::plotly-jupyter-scala:0.3.1`\n",
    "\n",
    "import plotly._\n",
    "import plotly.element._\n",
    "import plotly.layout._\n",
    "import plotly.JupyterScala._\n",
    "\n",
    "plotly.JupyterScala.init()"
   ]
  },
  {
   "cell_type": "code",
   "execution_count": 3,
   "metadata": {},
   "outputs": [
    {
     "data": {
      "text/plain": [
       "defined \u001b[32mclass\u001b[39m \u001b[36mDrawableHistogram\u001b[39m"
      ]
     },
     "execution_count": 3,
     "metadata": {},
     "output_type": "execute_result"
    }
   ],
   "source": [
    "implicit class DrawableHistogram[E](hist: Histogram[E]) {\n",
    "    def draw() = {\n",
    "        val xs = hist.elementsPresent.toSeq\n",
    "        val ys = xs.map(e => hist(e).toInt)\n",
    "        Bar(xs.map(_.toString), ys).plot()\n",
    "    }\n",
    "}"
   ]
  },
  {
   "cell_type": "code",
   "execution_count": 4,
   "metadata": {},
   "outputs": [
    {
     "data": {
      "text/plain": [
       "\u001b[32mimport \u001b[39m\u001b[36mru.hse.se.ba.danilin.paul.histogram_model.atomizers.Pixel\n",
       "\u001b[39m\n",
       "\u001b[32mimport \u001b[39m\u001b[36mjava.io.File\n",
       "\u001b[39m\n",
       "\u001b[32mimport \u001b[39m\u001b[36mjavax.imageio.ImageIO.read\n",
       "\n",
       "\u001b[39m\n",
       "defined \u001b[32mfunction\u001b[39m \u001b[36mreadImages\u001b[39m"
      ]
     },
     "execution_count": 4,
     "metadata": {},
     "output_type": "execute_result"
    }
   ],
   "source": [
    "import ru.hse.se.ba.danilin.paul.histogram_model.atomizers.Pixel\n",
    "import java.io.File\n",
    "import javax.imageio.ImageIO.read\n",
    "\n",
    "def readImages(folder: File) = {\n",
    "    val files = folder.isDirectory match {\n",
    "        case true => folder.listFiles().toList\n",
    "        case false => List(folder)\n",
    "    }\n",
    "    val names = files.map(_.getName.split('.')(0))\n",
    "    val hists = files.map(read).map(_.toHistogram)\n",
    "    names.zip(hists)\n",
    "}"
   ]
  },
  {
   "cell_type": "code",
   "execution_count": 5,
   "metadata": {},
   "outputs": [
    {
     "data": {
      "text/plain": [
       "\u001b[32mimport \u001b[39m\u001b[36mru.hse.se.ba.danilin.paul.histogram_model.queries.HistogramInput\u001b[39m"
      ]
     },
     "execution_count": 5,
     "metadata": {},
     "output_type": "execute_result"
    }
   ],
   "source": [
    "import ru.hse.se.ba.danilin.paul.histogram_model.queries.HistogramInput"
   ]
  },
  {
   "cell_type": "code",
   "execution_count": 6,
   "metadata": {},
   "outputs": [
    {
     "data": {
      "text/plain": [
       "\u001b[36mimagesHists\u001b[39m: \u001b[32mMap\u001b[39m[\u001b[32mString\u001b[39m, \u001b[32mHistogram\u001b[39m[\u001b[32mPixel\u001b[39m]] = \u001b[33mMap\u001b[39m(\n",
       "  \u001b[32m\"tiger\"\u001b[39m -> HistogramImpl(Map(RED -> 2043817.0, GREEN -> 258734.0, BLUE -> 155049.0)),\n",
       "  \u001b[32m\"sea\"\u001b[39m -> HistogramImpl(Map(BLUE -> 1055433.0, GREEN -> 137574.0, RED -> 1264593.0)),\n",
       "  \u001b[32m\"sky\"\u001b[39m -> HistogramImpl(Map(BLUE -> 1358882.0, GREEN -> 22730.0, RED -> 384788.0)),\n",
       "  \u001b[32m\"fan\"\u001b[39m -> HistogramImpl(Map(RED -> 1820863.0, BLUE -> 157745.0, GREEN -> 94992.0)),\n",
       "  \u001b[32m\"coli\"\u001b[39m -> HistogramImpl(Map(GREEN -> 538695.0, RED -> 57451.0, BLUE -> 30854.0)),\n",
       "  \u001b[32m\"ele\"\u001b[39m -> HistogramImpl(Map(RED -> 2068605.0, GREEN -> 4241.0, BLUE -> 754.0))\n",
       "\u001b[33m...\u001b[39m\n",
       "\u001b[36mimagesAliases\u001b[39m: \u001b[32mMap\u001b[39m[\u001b[32mString\u001b[39m, \u001b[32mHistogramInput\u001b[39m[\u001b[32mPixel\u001b[39m]] = \u001b[33mMap\u001b[39m(\n",
       "  \u001b[32m\"tiger\"\u001b[39m -> \u001b[33mHistogramInput\u001b[39m(\n",
       "    HistogramImpl(Map(RED -> 2043817.0, GREEN -> 258734.0, BLUE -> 155049.0))\n",
       "  ),\n",
       "  \u001b[32m\"sea\"\u001b[39m -> \u001b[33mHistogramInput\u001b[39m(\n",
       "    HistogramImpl(Map(BLUE -> 1055433.0, GREEN -> 137574.0, RED -> 1264593.0))\n",
       "  ),\n",
       "  \u001b[32m\"sky\"\u001b[39m -> \u001b[33mHistogramInput\u001b[39m(\n",
       "    HistogramImpl(Map(BLUE -> 1358882.0, GREEN -> 22730.0, RED -> 384788.0))\n",
       "  ),\n",
       "  \u001b[32m\"fan\"\u001b[39m -> \u001b[33mHistogramInput\u001b[39m(\n",
       "    HistogramImpl(Map(RED -> 1820863.0, BLUE -> 157745.0, GREEN -> 94992.0))\n",
       "\u001b[33m...\u001b[39m"
      ]
     },
     "execution_count": 6,
     "metadata": {},
     "output_type": "execute_result"
    }
   ],
   "source": [
    "val imagesHists = readImages(new File(\"/Users/pauldanilin/Desktop/images\")).toMap\n",
    "val imagesAliases = imagesHists.mapValues( hist => HistogramInput(hist))"
   ]
  },
  {
   "cell_type": "code",
   "execution_count": 7,
   "metadata": {},
   "outputs": [
    {
     "data": {
      "text/plain": [
       "\u001b[32mimport \u001b[39m\u001b[36mru.hse.se.ba.danilin.paul.histogram_model.queries.SubhistogramInput\u001b[39m"
      ]
     },
     "execution_count": 7,
     "metadata": {},
     "output_type": "execute_result"
    }
   ],
   "source": [
    "import ru.hse.se.ba.danilin.paul.histogram_model.queries.SubhistogramInput"
   ]
  },
  {
   "cell_type": "code",
   "execution_count": 8,
   "metadata": {},
   "outputs": [
    {
     "data": {
      "text/plain": [
       "\u001b[32mimport \u001b[39m\u001b[36mru.hse.se.ba.danilin.paul.histogram_model.atomizers.{Red, Blue, Green}\u001b[39m"
      ]
     },
     "execution_count": 8,
     "metadata": {},
     "output_type": "execute_result"
    }
   ],
   "source": [
    "import ru.hse.se.ba.danilin.paul.histogram_model.atomizers.{Red, Blue, Green}"
   ]
  },
  {
   "cell_type": "code",
   "execution_count": 9,
   "metadata": {},
   "outputs": [
    {
     "data": {
      "text/plain": [
       "\u001b[32mimport \u001b[39m\u001b[36mru.hse.se.ba.danilin.paul.histogram_model.queries.Query\u001b[39m"
      ]
     },
     "execution_count": 9,
     "metadata": {},
     "output_type": "execute_result"
    }
   ],
   "source": [
    "import ru.hse.se.ba.danilin.paul.histogram_model.queries.Query"
   ]
  },
  {
   "cell_type": "code",
   "execution_count": 10,
   "metadata": {},
   "outputs": [
    {
     "data": {
      "text/plain": [
       "\u001b[36mpixelsAliases\u001b[39m: \u001b[32mMap\u001b[39m[\u001b[32mString\u001b[39m, \u001b[32mSubhistogramInput\u001b[39m[\u001b[32m_4\u001b[39m] forSome { type \u001b[32m_4\u001b[39m >: \u001b[32mGreen\u001b[39m.type with \u001b[32mRed\u001b[39m.type with \u001b[32mBlue\u001b[39m.type <: \u001b[32mPixel\u001b[39m }] = \u001b[33mMap\u001b[39m(\n",
       "  \u001b[32m\"blue\"\u001b[39m -> SubhistogramInput(ru.hse.se.ba.danilin.paul.histogram_model.histogram.Implicits$SetUniverse@34298fd4),\n",
       "  \u001b[32m\"red\"\u001b[39m -> SubhistogramInput(ru.hse.se.ba.danilin.paul.histogram_model.histogram.Implicits$SetUniverse@6ecb626f),\n",
       "  \u001b[32m\"green\"\u001b[39m -> SubhistogramInput(ru.hse.se.ba.danilin.paul.histogram_model.histogram.Implicits$SetUniverse@69fb2da2)\n",
       ")"
      ]
     },
     "execution_count": 10,
     "metadata": {},
     "output_type": "execute_result"
    }
   ],
   "source": [
    "val pixelsAliases = Map(\"blue\" -> SubhistogramInput(Set(Blue)),\n",
    "                       \"red\" -> SubhistogramInput(Set(Red)),\n",
    "                       \"green\" -> SubhistogramInput(Set(Green)))"
   ]
  },
  {
   "cell_type": "code",
   "execution_count": 11,
   "metadata": {},
   "outputs": [
    {
     "data": {
      "text/plain": [
       "\u001b[32mimport \u001b[39m\u001b[36mru.hse.se.ba.danilin.paul.histogram_model.queries.Input\n",
       "\n",
       "\u001b[39m\n",
       "\u001b[36maliases\u001b[39m: \u001b[32mMap\u001b[39m[\u001b[32mString\u001b[39m, \u001b[32mru\u001b[39m.\u001b[32mhse\u001b[39m.\u001b[32mse\u001b[39m.\u001b[32mba\u001b[39m.\u001b[32mdanilin\u001b[39m.\u001b[32mpaul\u001b[39m.\u001b[32mhistogram_model\u001b[39m.\u001b[32mqueries\u001b[39m.\u001b[32mInput\u001b[39m[\u001b[32mPixel\u001b[39m]] = \u001b[33mMap\u001b[39m(\n",
       "  \u001b[32m\"intersect\"\u001b[39m -> \u001b[33mOperationInput\u001b[39m(\n",
       "    ru.hse.se.ba.danilin.paul.histogram_model.operations.Intersect$@7994ef7\n",
       "  ),\n",
       "  \u001b[32m\"tiger\"\u001b[39m -> \u001b[33mHistogramInput\u001b[39m(\n",
       "    HistogramImpl(Map(RED -> 2043817.0, GREEN -> 258734.0, BLUE -> 155049.0))\n",
       "  ),\n",
       "  \u001b[32m\"sim\"\u001b[39m -> \u001b[33mOperationInput\u001b[39m(\n",
       "    ru.hse.se.ba.danilin.paul.histogram_model.operations.Similar$@4869cf73\n",
       "  ),\n",
       "  \u001b[32m\"sea\"\u001b[39m -> \u001b[33mHistogramInput\u001b[39m(\n",
       "    HistogramImpl(Map(BLUE -> 1055433.0, GREEN -> 137574.0, RED -> 1264593.0))\n",
       "\u001b[33m...\u001b[39m"
      ]
     },
     "execution_count": 11,
     "metadata": {},
     "output_type": "execute_result"
    }
   ],
   "source": [
    "import ru.hse.se.ba.danilin.paul.histogram_model.queries.Input\n",
    "\n",
    "implicit val aliases = (Query.standardAliases[Pixel] ++ imagesAliases ++ pixelsAliases).asInstanceOf[Map[String, Input[Pixel]]]"
   ]
  },
  {
   "cell_type": "code",
   "execution_count": 12,
   "metadata": {},
   "outputs": [
    {
     "data": {
      "text/plain": [
       "\u001b[36mres11\u001b[39m: \u001b[32mIterable\u001b[39m[\u001b[32mString\u001b[39m] = \u001b[33mSet\u001b[39m(\u001b[32m\"tiger\"\u001b[39m, \u001b[32m\"sea\"\u001b[39m, \u001b[32m\"sky\"\u001b[39m, \u001b[32m\"fan\"\u001b[39m, \u001b[32m\"coli\"\u001b[39m, \u001b[32m\"ele\"\u001b[39m)"
      ]
     },
     "execution_count": 12,
     "metadata": {},
     "output_type": "execute_result"
    }
   ],
   "source": [
    "imagesHists.keys"
   ]
  },
  {
   "cell_type": "code",
   "execution_count": 13,
   "metadata": {},
   "outputs": [
    {
     "data": {
      "text/plain": [
       "\u001b[36mres12\u001b[39m: \u001b[32mHistogram\u001b[39m[\u001b[32mPixel\u001b[39m] = HistogramImpl(Map(RED -> 2043817.0, GREEN -> 258734.0, BLUE -> 155049.0))"
      ]
     },
     "execution_count": 13,
     "metadata": {},
     "output_type": "execute_result"
    }
   ],
   "source": [
    "imagesHists(\"tiger\")"
   ]
  },
  {
   "cell_type": "code",
   "execution_count": 14,
   "metadata": {
    "scrolled": true
   },
   "outputs": [
    {
     "data": {
      "text/plain": [
       "\u001b[36mq\u001b[39m: \u001b[32mQuery\u001b[39m[\u001b[32mPixel\u001b[39m] = ru.hse.se.ba.danilin.paul.histogram_model.queries.Query@771cf84b"
      ]
     },
     "execution_count": 14,
     "metadata": {},
     "output_type": "execute_result"
    }
   ],
   "source": [
    "val q = Query.fromString(\"red | green\")(aliases)"
   ]
  },
  {
   "cell_type": "code",
   "execution_count": 15,
   "metadata": {
    "scrolled": true
   },
   "outputs": [
    {
     "data": {
      "text/plain": [
       "\u001b[36msea\u001b[39m: \u001b[32mHistogram\u001b[39m[\u001b[32mPixel\u001b[39m] = HistogramImpl(Map(BLUE -> 1055433.0, GREEN -> 137574.0, RED -> 1264593.0))\n",
       "\u001b[36mres\u001b[39m: \u001b[32mHistogram\u001b[39m[\u001b[32mPixel\u001b[39m] = HistogramImpl(Map(RED -> 1264593.0, GREEN -> 137574.0))\n",
       "\u001b[36mres14_2\u001b[39m: \u001b[32mDouble\u001b[39m = \u001b[32m1402167.0\u001b[39m"
      ]
     },
     "execution_count": 15,
     "metadata": {},
     "output_type": "execute_result"
    }
   ],
   "source": [
    "val sea = imagesHists(\"sea\")\n",
    "\n",
    "val res = q.execute(sea).left.get\n",
    "\n",
    "res similar sea"
   ]
  },
  {
   "cell_type": "code",
   "execution_count": 16,
   "metadata": {},
   "outputs": [
    {
     "data": {
      "text/html": [
       "<div class=\"chart\" id=\"plot-1581004971\"></div>"
      ]
     },
     "metadata": {},
     "output_type": "display_data"
    },
    {
     "data": {
      "application/javascript": [
       "requirejs([\"plotly\"], function(Plotly) {\n",
       "  (function () {\n",
       "  var data0 = {\"type\":\"bar\",\"x\":[\"RED\",\"GREEN\",\"BLUE\"],\"y\":[2043817.0,258734.0,155049.0]};\n",
       "\n",
       "  var data = [data0];\n",
       "  var layout = {};\n",
       "\n",
       "  Plotly.plot('plot-1581004971', data, layout);\n",
       "})();\n",
       "});\n",
       "      "
      ]
     },
     "metadata": {},
     "output_type": "display_data"
    },
    {
     "data": {
      "text/html": [
       "<div class=\"chart\" id=\"plot-18495919\"></div>"
      ]
     },
     "metadata": {},
     "output_type": "display_data"
    },
    {
     "data": {
      "application/javascript": [
       "requirejs([\"plotly\"], function(Plotly) {\n",
       "  (function () {\n",
       "  var data0 = {\"type\":\"bar\",\"x\":[\"RED\",\"GREEN\"],\"y\":[2043817.0,258734.0]};\n",
       "\n",
       "  var data = [data0];\n",
       "  var layout = {};\n",
       "\n",
       "  Plotly.plot('plot-18495919', data, layout);\n",
       "})();\n",
       "});\n",
       "      "
      ]
     },
     "metadata": {},
     "output_type": "display_data"
    },
    {
     "data": {
      "text/plain": [
       "\u001b[36mtiger\u001b[39m: \u001b[32mHistogram\u001b[39m[\u001b[32mPixel\u001b[39m] = HistogramImpl(Map(RED -> 2043817.0, GREEN -> 258734.0, BLUE -> 155049.0))\n",
       "\u001b[36mres15_1\u001b[39m: \u001b[32mString\u001b[39m = \u001b[32m\"plot-1581004971\"\u001b[39m\n",
       "\u001b[36mres\u001b[39m: \u001b[32mHistogram\u001b[39m[\u001b[32mPixel\u001b[39m] = HistogramImpl(Map(RED -> 2043817.0, GREEN -> 258734.0))\n",
       "\u001b[36mres15_3\u001b[39m: \u001b[32mString\u001b[39m = \u001b[32m\"plot-18495919\"\u001b[39m\n",
       "\u001b[36mres15_4\u001b[39m: \u001b[32mDouble\u001b[39m = \u001b[32m1557216.0\u001b[39m"
      ]
     },
     "execution_count": 16,
     "metadata": {},
     "output_type": "execute_result"
    }
   ],
   "source": [
    "val tiger = imagesHists(\"tiger\")\n",
    "tiger.draw\n",
    "val res = q.execute(tiger).left.get\n",
    "res.draw\n",
    "tiger similar sea"
   ]
  },
  {
   "cell_type": "code",
   "execution_count": 16,
   "metadata": {},
   "outputs": [
    {
     "name": "stderr",
     "output_type": "stream",
     "text": [
      "cmd16.sc:1: object generic is not a member of package io.circe\n",
      "import io.circe.generic.auto._, io.circe.syntax._\n",
      "                ^"
     ]
    },
    {
     "ename": "",
     "evalue": "",
     "output_type": "error",
     "traceback": [
      "Compilation Failed"
     ]
    }
   ],
   "source": [
    "import io.circe.generic.auto._, io.circe.syntax._"
   ]
  },
  {
   "cell_type": "code",
   "execution_count": null,
   "metadata": {},
   "outputs": [],
   "source": [
    "import io.circe.simplegeneric.derive."
   ]
  }
 ],
 "metadata": {
  "kernelspec": {
   "display_name": "Scala",
   "language": "scala",
   "name": "scala"
  },
  "language_info": {
   "codemirror_mode": "text/x-scala",
   "file_extension": ".scala",
   "mimetype": "text/x-scala",
   "name": "scala211",
   "nbconvert_exporter": "script",
   "pygments_lexer": "scala",
   "version": "2.11.11"
  }
 },
 "nbformat": 4,
 "nbformat_minor": 2
}
