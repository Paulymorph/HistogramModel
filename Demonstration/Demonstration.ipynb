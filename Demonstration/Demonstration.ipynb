{
 "cells": [
  {
   "cell_type": "code",
   "execution_count": null,
   "metadata": {
    "scrolled": true
   },
   "outputs": [],
   "source": [
    "val path = java.nio.file.FileSystems.getDefault().getPath(\"/Users/pauldanilin/Documents/HSE/CourseWorks/HistogramModel/target/scala-2.11/histogrammodel_2.11-0.1.jar\")\n",
    "val x = ammonite.ops.Path(path)\n",
    "interp.load.cp(x)"
   ]
  },
  {
   "cell_type": "code",
   "execution_count": null,
   "metadata": {},
   "outputs": [],
   "source": [
    "import ru.hse.se.ba.danilin.paul.histogram_model.histogram.Implicits._\n",
    "import ru.hse.se.ba.danilin.paul.histogram_model.histogram.Histogram\n",
    "\n",
    "import $ivy.`org.plotly-scala::plotly-jupyter-scala:0.3.1`\n",
    "\n",
    "import plotly._\n",
    "import plotly.element._\n",
    "import plotly.layout._\n",
    "import plotly.JupyterScala._\n",
    "\n",
    "plotly.JupyterScala.init()"
   ]
  },
  {
   "cell_type": "code",
   "execution_count": null,
   "metadata": {},
   "outputs": [],
   "source": [
    "implicit class DrawableHistogram[E](hist: Histogram[E]) {\n",
    "    def draw() = {\n",
    "        val xs = hist.elementsPresent.toSeq.sortBy(_.toString)\n",
    "        val ys = xs.map(e => hist(e).toDouble)\n",
    "        Bar(xs.map(_.toString), ys).plot()\n",
    "    }\n",
    "}"
   ]
  },
  {
   "cell_type": "code",
   "execution_count": null,
   "metadata": {},
   "outputs": [],
   "source": [
    "import ru.hse.se.ba.danilin.paul.histogram_model.atomizers.Pixel\n",
    "import java.io.File\n",
    "import javax.imageio.ImageIO.read\n",
    "\n",
    "def readImages(folder: File) = {\n",
    "    val files = folder.isDirectory match {\n",
    "        case true => folder.listFiles().toList\n",
    "        case false => List(folder)\n",
    "    }\n",
    "    val names = files.map(_.getName.split('.')(0))\n",
    "    val hists = files.map(read).map(_.toHistogram)\n",
    "    names.zip(hists)\n",
    "}"
   ]
  },
  {
   "cell_type": "code",
   "execution_count": null,
   "metadata": {},
   "outputs": [],
   "source": [
    "import ru.hse.se.ba.danilin.paul.histogram_model.queries.HistogramInput"
   ]
  },
  {
   "cell_type": "code",
   "execution_count": null,
   "metadata": {},
   "outputs": [],
   "source": [
    "val imagesHists = readImages(new File(\"images\")).toMap.mapValues(_.normalize)\n",
    "val imagesAliases = imagesHists.mapValues( hist => HistogramInput(hist))"
   ]
  },
  {
   "cell_type": "code",
   "execution_count": null,
   "metadata": {},
   "outputs": [],
   "source": [
    "import ru.hse.se.ba.danilin.paul.histogram_model.queries.SubhistogramInput"
   ]
  },
  {
   "cell_type": "code",
   "execution_count": null,
   "metadata": {},
   "outputs": [],
   "source": [
    "import ru.hse.se.ba.danilin.paul.histogram_model.atomizers._"
   ]
  },
  {
   "cell_type": "code",
   "execution_count": null,
   "metadata": {},
   "outputs": [],
   "source": [
    "import ru.hse.se.ba.danilin.paul.histogram_model.queries.Query"
   ]
  },
  {
   "cell_type": "code",
   "execution_count": null,
   "metadata": {},
   "outputs": [],
   "source": [
    "val pixelsAliases = Map(\"blue\" -> SubhistogramInput(Set(Blue)),\n",
    "                       \"red\" -> SubhistogramInput(Set(Red, Yellow)),\n",
    "                       \"green\" -> SubhistogramInput(Set(Green)),\n",
    "                       \"yellow\" -> SubhistogramInput(Set(Yellow)),\n",
    "                       \"cyan\" -> SubhistogramInput(Set(Cyan)),\n",
    "                       \"magenta\" -> SubhistogramInput(Set(Magenta)))"
   ]
  },
  {
   "cell_type": "code",
   "execution_count": null,
   "metadata": {},
   "outputs": [],
   "source": [
    "import ru.hse.se.ba.danilin.paul.histogram_model.queries.Input\n",
    "\n",
    "implicit val aliases = (Query.standardAliases[Pixel] ++ imagesAliases ++ pixelsAliases).asInstanceOf[Map[String, Input[Pixel]]]"
   ]
  },
  {
   "cell_type": "code",
   "execution_count": null,
   "metadata": {},
   "outputs": [],
   "source": [
    "imagesHists.keys"
   ]
  },
  {
   "cell_type": "code",
   "execution_count": null,
   "metadata": {},
   "outputs": [],
   "source": [
    "imagesHists(\"tiger\")"
   ]
  },
  {
   "cell_type": "code",
   "execution_count": 21,
   "metadata": {
    "scrolled": true
   },
   "outputs": [
    {
     "data": {
      "text/plain": [
       "\u001b[36mq\u001b[39m: \u001b[32mQuery\u001b[39m[\u001b[32mPixel\u001b[39m] = ru.hse.se.ba.danilin.paul.histogram_model.queries.Query@3ddcee55"
      ]
     },
     "execution_count": 21,
     "metadata": {},
     "output_type": "execute_result"
    }
   ],
   "source": [
    "val q = Query.fromString(\"red | yellow\")(aliases)"
   ]
  },
  {
   "cell_type": "code",
   "execution_count": 22,
   "metadata": {
    "scrolled": true
   },
   "outputs": [
    {
     "data": {
      "text/plain": [
       "\u001b[36msea\u001b[39m: \u001b[32mHistogram\u001b[39m[\u001b[32mPixel\u001b[39m] = HistogramImpl(Map(BLUE -> 0.10955830416519766, YELLOW -> 0.24812603057717167, MAGENTA -> 0.24812603057717167, GREEN -> 0.01839813727782644, CYAN -> 0.24811472275025737, RED -> 0.1276767746523752))\n",
       "\u001b[36mres\u001b[39m: \u001b[32mHistogram\u001b[39m[\u001b[32mPixel\u001b[39m] = HistogramImpl(Map(RED -> 0.1276767746523752, YELLOW -> 0.24812603057717167))\n",
       "\u001b[36mres21_2\u001b[39m: \u001b[32mDouble\u001b[39m = \u001b[32m0.3758028052295469\u001b[39m"
      ]
     },
     "execution_count": 22,
     "metadata": {},
     "output_type": "execute_result"
    }
   ],
   "source": [
    "val sea = imagesHists(\"sea\")\n",
    "\n",
    "val res = q.execute(sea).left.get\n",
    "\n",
    "res similar sea"
   ]
  },
  {
   "cell_type": "code",
   "execution_count": 23,
   "metadata": {},
   "outputs": [
    {
     "data": {
      "text/html": [
       "<div class=\"chart\" id=\"plot-442294103\"></div>"
      ]
     },
     "metadata": {},
     "output_type": "display_data"
    },
    {
     "data": {
      "application/javascript": [
       "requirejs([\"plotly\"], function(Plotly) {\n",
       "  (function () {\n",
       "  var data0 = {\"type\":\"bar\",\"x\":[\"BLUE\",\"CYAN\",\"GREEN\",\"MAGENTA\",\"RED\",\"YELLOW\"],\"y\":[0.019837303272548706,0.24483996065575733,0.04098198917983423,0.24517511531546007,0.2039889193358189,0.24517671224058077]};\n",
       "\n",
       "  var data = [data0];\n",
       "  var layout = {};\n",
       "\n",
       "  Plotly.plot('plot-442294103', data, layout);\n",
       "})();\n",
       "});\n",
       "      "
      ]
     },
     "metadata": {},
     "output_type": "display_data"
    },
    {
     "data": {
      "text/plain": [
       "\u001b[36mtiger\u001b[39m: \u001b[32mHistogram\u001b[39m[\u001b[32mPixel\u001b[39m] = HistogramImpl(Map(BLUE -> 0.019837303272548706, YELLOW -> 0.24517671224058077, MAGENTA -> 0.24517511531546007, GREEN -> 0.04098198917983423, CYAN -> 0.24483996065575733, RED -> 0.2039889193358189))\n",
       "\u001b[36mres22_1\u001b[39m: \u001b[32mString\u001b[39m = \u001b[32m\"plot-442294103\"\u001b[39m"
      ]
     },
     "execution_count": 23,
     "metadata": {},
     "output_type": "execute_result"
    }
   ],
   "source": [
    "val tiger = imagesHists(\"tiger\")\n",
    "tiger.draw"
   ]
  },
  {
   "cell_type": "code",
   "execution_count": 24,
   "metadata": {},
   "outputs": [
    {
     "data": {
      "text/html": [
       "<div class=\"chart\" id=\"plot-2016719296\"></div>"
      ]
     },
     "metadata": {},
     "output_type": "display_data"
    },
    {
     "data": {
      "application/javascript": [
       "requirejs([\"plotly\"], function(Plotly) {\n",
       "  (function () {\n",
       "  var data0 = {\"type\":\"bar\",\"x\":[\"RED\",\"YELLOW\"],\"y\":[0.2039889193358189,0.24517671224058077]};\n",
       "\n",
       "  var data = [data0];\n",
       "  var layout = {};\n",
       "\n",
       "  Plotly.plot('plot-2016719296', data, layout);\n",
       "})();\n",
       "});\n",
       "      "
      ]
     },
     "metadata": {},
     "output_type": "display_data"
    },
    {
     "data": {
      "text/plain": [
       "\u001b[36mres\u001b[39m: \u001b[32mHistogram\u001b[39m[\u001b[32mPixel\u001b[39m] = HistogramImpl(Map(RED -> 0.2039889193358189, YELLOW -> 0.24517671224058077))\n",
       "\u001b[36mres23_1\u001b[39m: \u001b[32mString\u001b[39m = \u001b[32m\"plot-2016719296\"\u001b[39m\n",
       "\u001b[36mres23_2\u001b[39m: \u001b[32mDouble\u001b[39m = \u001b[32m0.9011040034145485\u001b[39m"
      ]
     },
     "execution_count": 24,
     "metadata": {},
     "output_type": "execute_result"
    }
   ],
   "source": [
    "val res = q.execute(tiger).left.get\n",
    "res.draw\n",
    "tiger similar sea"
   ]
  },
  {
   "cell_type": "code",
   "execution_count": null,
   "metadata": {},
   "outputs": [],
   "source": []
  }
 ],
 "metadata": {
  "kernelspec": {
   "display_name": "Scala",
   "language": "scala",
   "name": "scala"
  },
  "language_info": {
   "codemirror_mode": "text/x-scala",
   "file_extension": ".scala",
   "mimetype": "text/x-scala",
   "name": "scala211",
   "nbconvert_exporter": "script",
   "pygments_lexer": "scala",
   "version": "2.11.11"
  }
 },
 "nbformat": 4,
 "nbformat_minor": 2
}
