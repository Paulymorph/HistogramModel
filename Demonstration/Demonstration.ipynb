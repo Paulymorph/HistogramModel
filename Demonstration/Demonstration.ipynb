{
 "cells": [
  {
   "cell_type": "code",
   "execution_count": null,
   "metadata": {},
   "outputs": [],
   "source": [
    "val pathToJar = System.getProperty(\"user.dir\") + \"/HistogramModel.jar\"\n",
    "val x = ammonite.ops.Path(pathToJar)\n",
    "interp.load.cp(x)"
   ]
  },
  {
   "cell_type": "code",
   "execution_count": null,
   "metadata": {},
   "outputs": [],
   "source": [
    "import ru.hse.se.ba.danilin.paul.histogram_model.histogram.Implicits._\n",
    "import ru.hse.se.ba.danilin.paul.histogram_model.histogram.Histogram\n",
    "import ru.hse.se.ba.danilin.paul.histogram_model.histogram.HistogramImpl\n",
    "\n",
    "import $ivy.`org.plotly-scala::plotly-jupyter-scala:0.3.1`\n",
    "\n",
    "import plotly._\n",
    "import plotly.element._\n",
    "import plotly.layout._\n",
    "import plotly.JupyterScala._\n",
    "\n",
    "plotly.JupyterScala.init()"
   ]
  },
  {
   "cell_type": "code",
   "execution_count": null,
   "metadata": {},
   "outputs": [],
   "source": [
    "val histogram = HistogramImpl(Map(\"a\" -> 3, \"qwe\" -> 5))"
   ]
  },
  {
   "cell_type": "code",
   "execution_count": null,
   "metadata": {},
   "outputs": [],
   "source": [
    "val histogram = HistogramImpl.extract(\"a b c a\")"
   ]
  },
  {
   "cell_type": "code",
   "execution_count": null,
   "metadata": {},
   "outputs": [],
   "source": [
    "implicit class DrawableHistogram[E](hist: Histogram[E]) {\n",
    "    def draw() = {\n",
    "        val xs = hist.elementsPresent.toSeq.sortBy(_.toString)\n",
    "        val ys = xs.map(e => hist(e).toDouble)\n",
    "        Bar(xs.map(_.toString), ys).plot()\n",
    "    }\n",
    "}\n",
    "\n",
    "import ru.hse.se.ba.danilin.paul.histogram_model.atomizers.Pixel\n",
    "import java.io.File\n",
    "import javax.imageio.ImageIO.read\n",
    "\n",
    "def readImages(folder: File) = {\n",
    "    val files = (folder.isDirectory match {\n",
    "      case true => folder.listFiles().toList\n",
    "      case false => List(folder)\n",
    "    }).filterNot(_.getName.startsWith(\".\"))\n",
    "    val names = files.map(_.getName.split('.')(0))\n",
    "    val hists = files\n",
    "      .filterNot(_.isHidden)\n",
    "      .map(f => read(f))\n",
    "      .map(_.toHistogram)\n",
    "    names.zip(hists)\n",
    "}"
   ]
  },
  {
   "cell_type": "code",
   "execution_count": null,
   "metadata": {},
   "outputs": [],
   "source": [
    "import ru.hse.se.ba.danilin.paul.histogram_model.queries.HistogramInput"
   ]
  },
  {
   "cell_type": "code",
   "execution_count": null,
   "metadata": {},
   "outputs": [],
   "source": [
    "val imagesHists = readImages(new File(\"images\")).toMap.mapValues(_.normalize)\n",
    "val imagesAliases = imagesHists.mapValues( hist => HistogramInput(hist))"
   ]
  },
  {
   "cell_type": "code",
   "execution_count": null,
   "metadata": {},
   "outputs": [],
   "source": [
    "import ru.hse.se.ba.danilin.paul.histogram_model.queries.SubhistogramInput\n",
    "\n",
    "import ru.hse.se.ba.danilin.paul.histogram_model.atomizers._\n",
    "\n",
    "import ru.hse.se.ba.danilin.paul.histogram_model.queries.Query"
   ]
  },
  {
   "cell_type": "code",
   "execution_count": null,
   "metadata": {},
   "outputs": [],
   "source": [
    "val pixelsAliases = Map(\"blue\" -> SubhistogramInput(Set(Blue)),\n",
    "                       \"red\" -> SubhistogramInput(Set(Red, Yellow)),\n",
    "                       \"green\" -> SubhistogramInput(Set(Green)),\n",
    "                       \"yellow\" -> SubhistogramInput(Set(Yellow)),\n",
    "                       \"cyan\" -> SubhistogramInput(Set(Cyan)),\n",
    "                       \"magenta\" -> SubhistogramInput(Set(Magenta)))"
   ]
  },
  {
   "cell_type": "code",
   "execution_count": null,
   "metadata": {
    "scrolled": true
   },
   "outputs": [],
   "source": [
    "import ru.hse.se.ba.danilin.paul.histogram_model.queries.Input\n",
    "\n",
    "implicit val aliases = (Query.standardAliases[Pixel] ++ imagesAliases ++ pixelsAliases).asInstanceOf[Map[String, Input[Pixel]]]"
   ]
  },
  {
   "cell_type": "code",
   "execution_count": null,
   "metadata": {},
   "outputs": [],
   "source": [
    "imagesHists.keys"
   ]
  },
  {
   "cell_type": "code",
   "execution_count": null,
   "metadata": {},
   "outputs": [],
   "source": [
    "imagesHists(\"tiger\")"
   ]
  },
  {
   "cell_type": "code",
   "execution_count": null,
   "metadata": {
    "scrolled": true
   },
   "outputs": [],
   "source": [
    "val q = Query.fromString(\"red | yellow\")(aliases)"
   ]
  },
  {
   "cell_type": "code",
   "execution_count": null,
   "metadata": {
    "scrolled": true
   },
   "outputs": [],
   "source": [
    "val sea = imagesHists(\"sea\")\n",
    "\n",
    "val res = q.execute(sea).left.get\n",
    "\n",
    "res similar sea"
   ]
  },
  {
   "cell_type": "code",
   "execution_count": null,
   "metadata": {},
   "outputs": [],
   "source": [
    "val tiger = imagesHists(\"tiger\")\n",
    "tiger.draw"
   ]
  },
  {
   "cell_type": "code",
   "execution_count": null,
   "metadata": {},
   "outputs": [],
   "source": [
    "val res = q.execute(tiger).left.get\n",
    "res.draw\n",
    "tiger similar sea"
   ]
  },
  {
   "cell_type": "code",
   "execution_count": null,
   "metadata": {},
   "outputs": [],
   "source": [
    "val query = Query.fromString(\"red|yellow\")(aliases)\n",
    "val result = query.execute(imagesHists(\"tiger\")).left.get\n",
    "result.draw"
   ]
  },
  {
   "cell_type": "code",
   "execution_count": null,
   "metadata": {},
   "outputs": [],
   "source": [
    "val newQuery = Query(query.injectHistogram(imagesHists(\"sea\")))\n",
    "val result = newQuery.execute(imagesHists(\"tiger\")).left.get\n",
    "result.draw"
   ]
  },
  {
   "cell_type": "code",
   "execution_count": null,
   "metadata": {},
   "outputs": [],
   "source": [
    "val result = imagesHists(\"sea\") + imagesHists(\"tiger\")\n",
    "result.draw"
   ]
  },
  {
   "cell_type": "code",
   "execution_count": null,
   "metadata": {},
   "outputs": [],
   "source": [
    "result(Blue)"
   ]
  },
  {
   "cell_type": "code",
   "execution_count": null,
   "metadata": {},
   "outputs": [],
   "source": [
    "imagesHists(\"sea\") similar imagesHists(\"tiger\")"
   ]
  },
  {
   "cell_type": "code",
   "execution_count": null,
   "metadata": {},
   "outputs": [],
   "source": [
    "import io.circe.syntax._\n",
    "import ru.hse.se.ba.danilin.paul.histogram_model.histogram.Implicits._\n",
    "val json = result.asJson\n",
    "val writer = new PrintWriter(new File(\"test result.json\"))\n",
    "writer.write(json.spaces2)\n",
    "writer.close()"
   ]
  },
  {
   "cell_type": "code",
   "execution_count": null,
   "metadata": {},
   "outputs": [],
   "source": [
    "val writer = new PrintWriter(new File(\"test result.json\"))\n",
    "writer.write(imagesHists(\"sea\") similar imagesHists(\"tiger\"))\n",
    "writer.close()"
   ]
  }
 ],
 "metadata": {
  "kernelspec": {
   "display_name": "Scala",
   "language": "scala",
   "name": "scala"
  },
  "language_info": {
   "codemirror_mode": "text/x-scala",
   "file_extension": ".scala",
   "mimetype": "text/x-scala",
   "name": "scala211",
   "nbconvert_exporter": "script",
   "pygments_lexer": "scala",
   "version": "2.11.11"
  }
 },
 "nbformat": 4,
 "nbformat_minor": 2
}
