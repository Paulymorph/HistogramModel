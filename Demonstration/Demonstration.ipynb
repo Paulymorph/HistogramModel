{
 "cells": [
  {
   "cell_type": "code",
   "execution_count": 1,
   "metadata": {
    "scrolled": true
   },
   "outputs": [
    {
     "data": {
      "text/plain": [
       "\u001b[36mpath\u001b[39m: \u001b[32mjava\u001b[39m.\u001b[32mnio\u001b[39m.\u001b[32mfile\u001b[39m.\u001b[32mPath\u001b[39m = /Users/pauldanilin/Documents/HSE/CourseWorks/HistogramModel/target/scala-2.11/histogrammodel_2.11-0.1.jar\n",
       "\u001b[36mx\u001b[39m: \u001b[32mammonite\u001b[39m.\u001b[32mops\u001b[39m.\u001b[32mPath\u001b[39m = /Users/pauldanilin/Documents/HSE/CourseWorks/HistogramModel/target/scala-2.11/histogrammodel_2.11-0.1.jar"
      ]
     },
     "execution_count": 1,
     "metadata": {},
     "output_type": "execute_result"
    }
   ],
   "source": [
    "val path = java.nio.file.FileSystems.getDefault().getPath(\"/Users/pauldanilin/Documents/HSE/CourseWorks/HistogramModel/target/scala-2.11/histogrammodel_2.11-0.1.jar\")\n",
    "val x = ammonite.ops.Path(path)\n",
    "interp.load.cp(x)"
   ]
  },
  {
   "cell_type": "code",
   "execution_count": 2,
   "metadata": {},
   "outputs": [
    {
     "data": {
      "text/html": [
       "\n",
       "      <script type=\"text/javascript\">\n",
       "        require.config({\n",
       "  paths: {\n",
       "    d3: 'https://cdnjs.cloudflare.com/ajax/libs/d3/3.5.17/d3.min',\n",
       "    plotly: 'https://cdn.plot.ly/plotly-1.12.0.min'\n",
       "  },\n",
       "\n",
       "  shim: {\n",
       "    plotly: {\n",
       "      deps: ['d3', 'jquery'],\n",
       "      exports: 'plotly'\n",
       "    }\n",
       "  }\n",
       "});\n",
       "        \n",
       "\n",
       "        require(['plotly'], function(Plotly) {\n",
       "          window.Plotly = Plotly;\n",
       "        });\n",
       "      </script>\n",
       "    "
      ]
     },
     "metadata": {},
     "output_type": "display_data"
    },
    {
     "data": {
      "text/plain": [
       "\u001b[32mimport \u001b[39m\u001b[36mru.hse.se.ba.danilin.paul.histogram_model.histogram.Implicits._\n",
       "\u001b[39m\n",
       "\u001b[32mimport \u001b[39m\u001b[36mru.hse.se.ba.danilin.paul.histogram_model.histogram.Histogram\n",
       "\n",
       "\u001b[39m\n",
       "\u001b[32mimport \u001b[39m\u001b[36m$ivy.$                                             \n",
       "\n",
       "\u001b[39m\n",
       "\u001b[32mimport \u001b[39m\u001b[36mplotly._\n",
       "\u001b[39m\n",
       "\u001b[32mimport \u001b[39m\u001b[36mplotly.element._\n",
       "\u001b[39m\n",
       "\u001b[32mimport \u001b[39m\u001b[36mplotly.layout._\n",
       "\u001b[39m\n",
       "\u001b[32mimport \u001b[39m\u001b[36mplotly.JupyterScala._\n",
       "\n",
       "\u001b[39m"
      ]
     },
     "execution_count": 2,
     "metadata": {},
     "output_type": "execute_result"
    }
   ],
   "source": [
    "import ru.hse.se.ba.danilin.paul.histogram_model.histogram.Implicits._\n",
    "import ru.hse.se.ba.danilin.paul.histogram_model.histogram.Histogram\n",
    "\n",
    "import $ivy.`org.plotly-scala::plotly-jupyter-scala:0.3.1`\n",
    "\n",
    "import plotly._\n",
    "import plotly.element._\n",
    "import plotly.layout._\n",
    "import plotly.JupyterScala._\n",
    "\n",
    "plotly.JupyterScala.init()"
   ]
  },
  {
   "cell_type": "code",
   "execution_count": 18,
   "metadata": {},
   "outputs": [
    {
     "data": {
      "text/plain": [
       "defined \u001b[32mclass\u001b[39m \u001b[36mDrawableHistogram\u001b[39m"
      ]
     },
     "execution_count": 18,
     "metadata": {},
     "output_type": "execute_result"
    }
   ],
   "source": [
    "implicit class DrawableHistogram[E](hist: Histogram[E]) {\n",
    "    def draw() = {\n",
    "        val xs = hist.elementsPresent.toSeq.sortBy(_.toString)\n",
    "        val ys = xs.map(e => hist(e).toDouble)\n",
    "        Bar(xs.map(_.toString), ys).plot()\n",
    "    }\n",
    "}"
   ]
  },
  {
   "cell_type": "code",
   "execution_count": 4,
   "metadata": {},
   "outputs": [
    {
     "data": {
      "text/plain": [
       "\u001b[32mimport \u001b[39m\u001b[36mru.hse.se.ba.danilin.paul.histogram_model.atomizers.Pixel\n",
       "\u001b[39m\n",
       "\u001b[32mimport \u001b[39m\u001b[36mjava.io.File\n",
       "\u001b[39m\n",
       "\u001b[32mimport \u001b[39m\u001b[36mjavax.imageio.ImageIO.read\n",
       "\n",
       "\u001b[39m\n",
       "defined \u001b[32mfunction\u001b[39m \u001b[36mreadImages\u001b[39m"
      ]
     },
     "execution_count": 4,
     "metadata": {},
     "output_type": "execute_result"
    }
   ],
   "source": [
    "import ru.hse.se.ba.danilin.paul.histogram_model.atomizers.Pixel\n",
    "import java.io.File\n",
    "import javax.imageio.ImageIO.read\n",
    "\n",
    "def readImages(folder: File) = {\n",
    "    val files = folder.isDirectory match {\n",
    "        case true => folder.listFiles().toList\n",
    "        case false => List(folder)\n",
    "    }\n",
    "    val names = files.map(_.getName.split('.')(0))\n",
    "    val hists = files.map(read).map(_.toHistogram)\n",
    "    names.zip(hists)\n",
    "}"
   ]
  },
  {
   "cell_type": "code",
   "execution_count": 5,
   "metadata": {},
   "outputs": [
    {
     "data": {
      "text/plain": [
       "\u001b[32mimport \u001b[39m\u001b[36mru.hse.se.ba.danilin.paul.histogram_model.queries.HistogramInput\u001b[39m"
      ]
     },
     "execution_count": 5,
     "metadata": {},
     "output_type": "execute_result"
    }
   ],
   "source": [
    "import ru.hse.se.ba.danilin.paul.histogram_model.queries.HistogramInput"
   ]
  },
  {
   "cell_type": "code",
   "execution_count": 6,
   "metadata": {},
   "outputs": [
    {
     "data": {
      "text/plain": [
       "\u001b[36mimagesHists\u001b[39m: \u001b[32mMap\u001b[39m[\u001b[32mString\u001b[39m, \u001b[32mHistogram\u001b[39m[\u001b[32mPixel\u001b[39m]] = \u001b[33mMap\u001b[39m(\n",
       "  \u001b[32m\"tiger\"\u001b[39m -> HistogramImpl(Map(BLUE -> 0.019837303272548706, YELLOW -> 0.24517671224058077, MAGENTA -> 0.24517511531546007, GREEN -> 0.04098198917983423, CYAN -> 0.24483996065575733, RED -> 0.2039889193358189)),\n",
       "  \u001b[32m\"sea\"\u001b[39m -> HistogramImpl(Map(BLUE -> 0.10955830416519766, YELLOW -> 0.24812603057717167, MAGENTA -> 0.24812603057717167, GREEN -> 0.01839813727782644, CYAN -> 0.24811472275025737, RED -> 0.1276767746523752)),\n",
       "  \u001b[32m\"sky\"\u001b[39m -> HistogramImpl(Map(BLUE -> 0.19380275799365249, YELLOW -> 0.24840713169843853, MAGENTA -> 0.24868798157016075, GREEN -> 0.006065258067634511, CYAN -> 0.24881325780496308, RED -> 0.05422361286515063)),\n",
       "  \u001b[32m\"fan\"\u001b[39m -> HistogramImpl(Map(BLUE -> 0.02101713202009067, YELLOW -> 0.24814157000357565, MAGENTA -> 0.24814073233390566, GREEN -> 0.01666376274514403, CYAN -> 0\u001b[33m...\u001b[39m\n",
       "\u001b[36mimagesAliases\u001b[39m: \u001b[32mMap\u001b[39m[\u001b[32mString\u001b[39m, \u001b[32mHistogramInput\u001b[39m[\u001b[32mPixel\u001b[39m]] = \u001b[33mMap\u001b[39m(\n",
       "  \u001b[32m\"tiger\"\u001b[39m -> \u001b[33mHistogramInput\u001b[39m(\n",
       "    HistogramImpl(Map(BLUE -> 0.019837303272548706, YELLOW -> 0.24517671224058077, MAGENTA -> 0.24517511531546007, GREEN -> 0.04098198917983423, CYAN -> 0.24483996065575733, RED -> 0.2039889193358189))\n",
       "  ),\n",
       "  \u001b[32m\"sea\"\u001b[39m -> \u001b[33mHistogramInput\u001b[39m(\n",
       "    HistogramImpl(Map(BLUE -> 0.10955830416519766, YELLOW -> 0.24812603057717167, MAGENTA -> 0.24812603057717167, GREEN -> 0.01839813727782644, CYAN -> 0.24811472275025737, RED -> 0.1276767746523752))\n",
       "  ),\n",
       "  \u001b[32m\"sky\"\u001b[39m -> \u001b[33mHistogramInput\u001b[39m(\n",
       "\u001b[33m...\u001b[39m"
      ]
     },
     "execution_count": 6,
     "metadata": {},
     "output_type": "execute_result"
    }
   ],
   "source": [
    "val imagesHists = readImages(new File(\"images\")).toMap.mapValues(_.normalize)\n",
    "val imagesAliases = imagesHists.mapValues( hist => HistogramInput(hist))"
   ]
  },
  {
   "cell_type": "code",
   "execution_count": 7,
   "metadata": {},
   "outputs": [
    {
     "data": {
      "text/plain": [
       "\u001b[32mimport \u001b[39m\u001b[36mru.hse.se.ba.danilin.paul.histogram_model.queries.SubhistogramInput\u001b[39m"
      ]
     },
     "execution_count": 7,
     "metadata": {},
     "output_type": "execute_result"
    }
   ],
   "source": [
    "import ru.hse.se.ba.danilin.paul.histogram_model.queries.SubhistogramInput"
   ]
  },
  {
   "cell_type": "code",
   "execution_count": 10,
   "metadata": {},
   "outputs": [
    {
     "data": {
      "text/plain": [
       "\u001b[32mimport \u001b[39m\u001b[36mru.hse.se.ba.danilin.paul.histogram_model.atomizers._\u001b[39m"
      ]
     },
     "execution_count": 10,
     "metadata": {},
     "output_type": "execute_result"
    }
   ],
   "source": [
    "import ru.hse.se.ba.danilin.paul.histogram_model.atomizers._"
   ]
  },
  {
   "cell_type": "code",
   "execution_count": 9,
   "metadata": {},
   "outputs": [
    {
     "data": {
      "text/plain": [
       "\u001b[32mimport \u001b[39m\u001b[36mru.hse.se.ba.danilin.paul.histogram_model.queries.Query\u001b[39m"
      ]
     },
     "execution_count": 9,
     "metadata": {},
     "output_type": "execute_result"
    }
   ],
   "source": [
    "import ru.hse.se.ba.danilin.paul.histogram_model.queries.Query"
   ]
  },
  {
   "cell_type": "code",
   "execution_count": 11,
   "metadata": {},
   "outputs": [
    {
     "data": {
      "text/plain": [
       "\u001b[36mpixelsAliases\u001b[39m: \u001b[32mMap\u001b[39m[\u001b[32mString\u001b[39m, \u001b[32mSubhistogramInput\u001b[39m[\u001b[32m_4\u001b[39m] forSome { type \u001b[32m_4\u001b[39m >: \u001b[32mMagenta\u001b[39m.type with \u001b[32mCyan\u001b[39m.type with \u001b[32mYellow\u001b[39m.type with \u001b[32mGreen\u001b[39m.type with \u001b[32mRed\u001b[39m.type with \u001b[32mBlue\u001b[39m.type <: \u001b[32mPixel\u001b[39m }] = \u001b[33mMap\u001b[39m(\n",
       "  \u001b[32m\"magenta\"\u001b[39m -> SubhistogramInput(ru.hse.se.ba.danilin.paul.histogram_model.histogram.Implicits$SetUniverse@3dfed589),\n",
       "  \u001b[32m\"blue\"\u001b[39m -> SubhistogramInput(ru.hse.se.ba.danilin.paul.histogram_model.histogram.Implicits$SetUniverse@a90ae86),\n",
       "  \u001b[32m\"green\"\u001b[39m -> SubhistogramInput(ru.hse.se.ba.danilin.paul.histogram_model.histogram.Implicits$SetUniverse@406ce8f5),\n",
       "  \u001b[32m\"yellow\"\u001b[39m -> SubhistogramInput(ru.hse.se.ba.danilin.paul.histogram_model.histogram.Implicits$SetUniverse@4d5f6a10),\n",
       "  \u001b[32m\"cyan\"\u001b[39m -> SubhistogramInput(ru.hse.se.ba.danilin.paul.histogram_model.histogram.Implicits$SetUniverse@646acaf),\n",
       "  \u001b[32m\"red\"\u001b[39m -> SubhistogramInput(ru.hse.se.ba.danilin.paul.histogram_model.histogram\u001b[33m...\u001b[39m"
      ]
     },
     "execution_count": 11,
     "metadata": {},
     "output_type": "execute_result"
    }
   ],
   "source": [
    "val pixelsAliases = Map(\"blue\" -> SubhistogramInput(Set(Blue)),\n",
    "                       \"red\" -> SubhistogramInput(Set(Red)),\n",
    "                       \"green\" -> SubhistogramInput(Set(Green)),\n",
    "                       \"yellow\" -> SubhistogramInput(Set(Yellow)),\n",
    "                       \"cyan\" -> SubhistogramInput(Set(Cyan)),\n",
    "                       \"magenta\" -> SubhistogramInput(Set(Magenta)))"
   ]
  },
  {
   "cell_type": "code",
   "execution_count": 12,
   "metadata": {},
   "outputs": [
    {
     "data": {
      "text/plain": [
       "\u001b[32mimport \u001b[39m\u001b[36mru.hse.se.ba.danilin.paul.histogram_model.queries.Input\n",
       "\n",
       "\u001b[39m\n",
       "\u001b[36maliases\u001b[39m: \u001b[32mMap\u001b[39m[\u001b[32mString\u001b[39m, \u001b[32mru\u001b[39m.\u001b[32mhse\u001b[39m.\u001b[32mse\u001b[39m.\u001b[32mba\u001b[39m.\u001b[32mdanilin\u001b[39m.\u001b[32mpaul\u001b[39m.\u001b[32mhistogram_model\u001b[39m.\u001b[32mqueries\u001b[39m.\u001b[32mInput\u001b[39m[\u001b[32mPixel\u001b[39m]] = \u001b[33mMap\u001b[39m(\n",
       "  \u001b[32m\"intersect\"\u001b[39m -> \u001b[33mOperationInput\u001b[39m(\n",
       "    ru.hse.se.ba.danilin.paul.histogram_model.operations.Intersect$@f3e4a3d\n",
       "  ),\n",
       "  \u001b[32m\"tiger\"\u001b[39m -> \u001b[33mHistogramInput\u001b[39m(\n",
       "    HistogramImpl(Map(BLUE -> 0.019837303272548706, YELLOW -> 0.24517671224058077, MAGENTA -> 0.24517511531546007, GREEN -> 0.04098198917983423, CYAN -> 0.24483996065575733, RED -> 0.2039889193358189))\n",
       "  ),\n",
       "  \u001b[32m\"sim\"\u001b[39m -> \u001b[33mOperationInput\u001b[39m(\n",
       "    ru.hse.se.ba.danilin.paul.histogram_model.operations.Similar$@69753696\n",
       "  ),\n",
       "\u001b[33m...\u001b[39m"
      ]
     },
     "execution_count": 12,
     "metadata": {},
     "output_type": "execute_result"
    }
   ],
   "source": [
    "import ru.hse.se.ba.danilin.paul.histogram_model.queries.Input\n",
    "\n",
    "implicit val aliases = (Query.standardAliases[Pixel] ++ imagesAliases ++ pixelsAliases).asInstanceOf[Map[String, Input[Pixel]]]"
   ]
  },
  {
   "cell_type": "code",
   "execution_count": 13,
   "metadata": {},
   "outputs": [
    {
     "data": {
      "text/plain": [
       "\u001b[36mres12\u001b[39m: \u001b[32mIterable\u001b[39m[\u001b[32mString\u001b[39m] = \u001b[33mSet\u001b[39m(\u001b[32m\"tiger\"\u001b[39m, \u001b[32m\"sea\"\u001b[39m, \u001b[32m\"sky\"\u001b[39m, \u001b[32m\"fan\"\u001b[39m, \u001b[32m\"coli\"\u001b[39m, \u001b[32m\"ele\"\u001b[39m)"
      ]
     },
     "execution_count": 13,
     "metadata": {},
     "output_type": "execute_result"
    }
   ],
   "source": [
    "imagesHists.keys"
   ]
  },
  {
   "cell_type": "code",
   "execution_count": 14,
   "metadata": {},
   "outputs": [
    {
     "data": {
      "text/plain": [
       "\u001b[36mres13\u001b[39m: \u001b[32mHistogram\u001b[39m[\u001b[32mPixel\u001b[39m] = HistogramImpl(Map(BLUE -> 0.019837303272548706, YELLOW -> 0.24517671224058077, MAGENTA -> 0.24517511531546007, GREEN -> 0.04098198917983423, CYAN -> 0.24483996065575733, RED -> 0.2039889193358189))"
      ]
     },
     "execution_count": 14,
     "metadata": {},
     "output_type": "execute_result"
    }
   ],
   "source": [
    "imagesHists(\"tiger\")"
   ]
  },
  {
   "cell_type": "code",
   "execution_count": 21,
   "metadata": {
    "scrolled": true
   },
   "outputs": [
    {
     "data": {
      "text/plain": [
       "\u001b[36mq\u001b[39m: \u001b[32mQuery\u001b[39m[\u001b[32mPixel\u001b[39m] = ru.hse.se.ba.danilin.paul.histogram_model.queries.Query@3ddcee55"
      ]
     },
     "execution_count": 21,
     "metadata": {},
     "output_type": "execute_result"
    }
   ],
   "source": [
    "val q = Query.fromString(\"red | yellow\")(aliases)"
   ]
  },
  {
   "cell_type": "code",
   "execution_count": 22,
   "metadata": {
    "scrolled": true
   },
   "outputs": [
    {
     "data": {
      "text/plain": [
       "\u001b[36msea\u001b[39m: \u001b[32mHistogram\u001b[39m[\u001b[32mPixel\u001b[39m] = HistogramImpl(Map(BLUE -> 0.10955830416519766, YELLOW -> 0.24812603057717167, MAGENTA -> 0.24812603057717167, GREEN -> 0.01839813727782644, CYAN -> 0.24811472275025737, RED -> 0.1276767746523752))\n",
       "\u001b[36mres\u001b[39m: \u001b[32mHistogram\u001b[39m[\u001b[32mPixel\u001b[39m] = HistogramImpl(Map(RED -> 0.1276767746523752, YELLOW -> 0.24812603057717167))\n",
       "\u001b[36mres21_2\u001b[39m: \u001b[32mDouble\u001b[39m = \u001b[32m0.3758028052295469\u001b[39m"
      ]
     },
     "execution_count": 22,
     "metadata": {},
     "output_type": "execute_result"
    }
   ],
   "source": [
    "val sea = imagesHists(\"sea\")\n",
    "\n",
    "val res = q.execute(sea).left.get\n",
    "\n",
    "res similar sea"
   ]
  },
  {
   "cell_type": "code",
   "execution_count": 23,
   "metadata": {},
   "outputs": [
    {
     "data": {
      "text/html": [
       "<div class=\"chart\" id=\"plot-442294103\"></div>"
      ]
     },
     "metadata": {},
     "output_type": "display_data"
    },
    {
     "data": {
      "application/javascript": [
       "requirejs([\"plotly\"], function(Plotly) {\n",
       "  (function () {\n",
       "  var data0 = {\"type\":\"bar\",\"x\":[\"BLUE\",\"CYAN\",\"GREEN\",\"MAGENTA\",\"RED\",\"YELLOW\"],\"y\":[0.019837303272548706,0.24483996065575733,0.04098198917983423,0.24517511531546007,0.2039889193358189,0.24517671224058077]};\n",
       "\n",
       "  var data = [data0];\n",
       "  var layout = {};\n",
       "\n",
       "  Plotly.plot('plot-442294103', data, layout);\n",
       "})();\n",
       "});\n",
       "      "
      ]
     },
     "metadata": {},
     "output_type": "display_data"
    },
    {
     "data": {
      "text/plain": [
       "\u001b[36mtiger\u001b[39m: \u001b[32mHistogram\u001b[39m[\u001b[32mPixel\u001b[39m] = HistogramImpl(Map(BLUE -> 0.019837303272548706, YELLOW -> 0.24517671224058077, MAGENTA -> 0.24517511531546007, GREEN -> 0.04098198917983423, CYAN -> 0.24483996065575733, RED -> 0.2039889193358189))\n",
       "\u001b[36mres22_1\u001b[39m: \u001b[32mString\u001b[39m = \u001b[32m\"plot-442294103\"\u001b[39m"
      ]
     },
     "execution_count": 23,
     "metadata": {},
     "output_type": "execute_result"
    }
   ],
   "source": [
    "val tiger = imagesHists(\"tiger\")\n",
    "tiger.draw"
   ]
  },
  {
   "cell_type": "code",
   "execution_count": 24,
   "metadata": {},
   "outputs": [
    {
     "data": {
      "text/html": [
       "<div class=\"chart\" id=\"plot-2016719296\"></div>"
      ]
     },
     "metadata": {},
     "output_type": "display_data"
    },
    {
     "data": {
      "application/javascript": [
       "requirejs([\"plotly\"], function(Plotly) {\n",
       "  (function () {\n",
       "  var data0 = {\"type\":\"bar\",\"x\":[\"RED\",\"YELLOW\"],\"y\":[0.2039889193358189,0.24517671224058077]};\n",
       "\n",
       "  var data = [data0];\n",
       "  var layout = {};\n",
       "\n",
       "  Plotly.plot('plot-2016719296', data, layout);\n",
       "})();\n",
       "});\n",
       "      "
      ]
     },
     "metadata": {},
     "output_type": "display_data"
    },
    {
     "data": {
      "text/plain": [
       "\u001b[36mres\u001b[39m: \u001b[32mHistogram\u001b[39m[\u001b[32mPixel\u001b[39m] = HistogramImpl(Map(RED -> 0.2039889193358189, YELLOW -> 0.24517671224058077))\n",
       "\u001b[36mres23_1\u001b[39m: \u001b[32mString\u001b[39m = \u001b[32m\"plot-2016719296\"\u001b[39m\n",
       "\u001b[36mres23_2\u001b[39m: \u001b[32mDouble\u001b[39m = \u001b[32m0.9011040034145485\u001b[39m"
      ]
     },
     "execution_count": 24,
     "metadata": {},
     "output_type": "execute_result"
    }
   ],
   "source": [
    "val res = q.execute(tiger).left.get\n",
    "res.draw\n",
    "tiger similar sea"
   ]
  },
  {
   "cell_type": "code",
   "execution_count": null,
   "metadata": {},
   "outputs": [],
   "source": []
  }
 ],
 "metadata": {
  "kernelspec": {
   "display_name": "Scala",
   "language": "scala",
   "name": "scala"
  },
  "language_info": {
   "codemirror_mode": "text/x-scala",
   "file_extension": ".scala",
   "mimetype": "text/x-scala",
   "name": "scala211",
   "nbconvert_exporter": "script",
   "pygments_lexer": "scala",
   "version": "2.11.11"
  }
 },
 "nbformat": 4,
 "nbformat_minor": 2
}
