{
 "cells": [
  {
   "cell_type": "code",
   "execution_count": 1,
   "metadata": {},
   "outputs": [
    {
     "data": {
      "text/plain": [
       "\u001b[36mpathToJar\u001b[39m: \u001b[32mString\u001b[39m = \u001b[32m\"/Users/pauldanilin/Documents/HSE/CourseWorks/HistogramModel/Demonstration/HistogramModel.jar\"\u001b[39m\n",
       "\u001b[36mx\u001b[39m: \u001b[32mammonite\u001b[39m.\u001b[32mops\u001b[39m.\u001b[32mPath\u001b[39m = /Users/pauldanilin/Documents/HSE/CourseWorks/HistogramModel/Demonstration/HistogramModel.jar"
      ]
     },
     "execution_count": 1,
     "metadata": {},
     "output_type": "execute_result"
    }
   ],
   "source": [
    "val pathToJar = System.getProperty(\"user.dir\") + \"/HistogramModel.jar\"\n",
    "val x = ammonite.ops.Path(pathToJar)\n",
    "interp.load.cp(x)"
   ]
  },
  {
   "cell_type": "code",
   "execution_count": 19,
   "metadata": {},
   "outputs": [
    {
     "data": {
      "text/html": [
       "\n",
       "      <script type=\"text/javascript\">\n",
       "        require.config({\n",
       "  paths: {\n",
       "    d3: 'https://cdnjs.cloudflare.com/ajax/libs/d3/3.5.17/d3.min',\n",
       "    plotly: 'https://cdn.plot.ly/plotly-1.12.0.min'\n",
       "  },\n",
       "\n",
       "  shim: {\n",
       "    plotly: {\n",
       "      deps: ['d3', 'jquery'],\n",
       "      exports: 'plotly'\n",
       "    }\n",
       "  }\n",
       "});\n",
       "        \n",
       "\n",
       "        require(['plotly'], function(Plotly) {\n",
       "          window.Plotly = Plotly;\n",
       "        });\n",
       "      </script>\n",
       "    "
      ]
     },
     "metadata": {},
     "output_type": "display_data"
    },
    {
     "data": {
      "text/plain": [
       "\u001b[32mimport \u001b[39m\u001b[36mru.hse.se.ba.danilin.paul.histogram_model.histogram.Implicits._\n",
       "\u001b[39m\n",
       "\u001b[32mimport \u001b[39m\u001b[36mru.hse.se.ba.danilin.paul.histogram_model.histogram.Histogram\n",
       "\u001b[39m\n",
       "\u001b[32mimport \u001b[39m\u001b[36mru.hse.se.ba.danilin.paul.histogram_model.histogram.HistogramImpl\n",
       "\n",
       "\u001b[39m\n",
       "\u001b[32mimport \u001b[39m\u001b[36m$ivy.$                                             \n",
       "\n",
       "\u001b[39m\n",
       "\u001b[32mimport \u001b[39m\u001b[36mplotly._\n",
       "\u001b[39m\n",
       "\u001b[32mimport \u001b[39m\u001b[36mplotly.element.{Color => PColor}\n",
       "\u001b[39m\n",
       "\u001b[32mimport \u001b[39m\u001b[36mplotly.element._\n",
       "\u001b[39m\n",
       "\u001b[32mimport \u001b[39m\u001b[36mplotly.layout._\n",
       "\u001b[39m\n",
       "\u001b[32mimport \u001b[39m\u001b[36mplotly.JupyterScala._\n",
       "\n",
       "\u001b[39m\n",
       "\u001b[32mimport \u001b[39m\u001b[36mru.hse.se.ba.danilin.paul.histogram_model.atomizers._\n",
       "\u001b[39m\n",
       "\u001b[32mimport \u001b[39m\u001b[36mru.hse.se.ba.danilin.paul.histogram_model.queries._\n",
       "\u001b[39m\n",
       "\u001b[32mimport \u001b[39m\u001b[36mjava.io.File\n",
       "\u001b[39m\n",
       "\u001b[32mimport \u001b[39m\u001b[36mjavax.imageio.ImageIO.read\n",
       "\n",
       "\u001b[39m"
      ]
     },
     "execution_count": 19,
     "metadata": {},
     "output_type": "execute_result"
    }
   ],
   "source": [
    "import ru.hse.se.ba.danilin.paul.histogram_model.histogram.Implicits._\n",
    "import ru.hse.se.ba.danilin.paul.histogram_model.histogram.Histogram\n",
    "import ru.hse.se.ba.danilin.paul.histogram_model.histogram.HistogramImpl\n",
    "\n",
    "import $ivy.`org.plotly-scala::plotly-jupyter-scala:0.3.1`\n",
    "\n",
    "import plotly._\n",
    "import plotly.element.{Color => PColor}\n",
    "import plotly.element._\n",
    "import plotly.layout._\n",
    "import plotly.JupyterScala._\n",
    "\n",
    "import ru.hse.se.ba.danilin.paul.histogram_model.atomizers._\n",
    "import ru.hse.se.ba.danilin.paul.histogram_model.queries._\n",
    "import java.io.File\n",
    "import javax.imageio.ImageIO.read\n",
    "\n",
    "plotly.JupyterScala.init()"
   ]
  },
  {
   "cell_type": "code",
   "execution_count": 20,
   "metadata": {},
   "outputs": [
    {
     "data": {
      "text/plain": [
       "defined \u001b[32mclass\u001b[39m \u001b[36mDrawableHistogram\u001b[39m\n",
       "defined \u001b[32mfunction\u001b[39m \u001b[36mreadImages\u001b[39m"
      ]
     },
     "execution_count": 20,
     "metadata": {},
     "output_type": "execute_result"
    }
   ],
   "source": [
    "implicit class DrawableHistogram[E](hist: Histogram[E]) {\n",
    "    def draw() = {\n",
    "        val font = Font(10)\n",
    "        val mapColors = Map(\n",
    "            Red -> PColor.RGB(255,0,0),\n",
    "            Green -> PColor.RGB(0, 153, 0),\n",
    "            Yellow -> PColor.RGB(255, 255, 0),\n",
    "            GreenYellow -> PColor.RGB(210, 255, 77),\n",
    "            Blue -> PColor.RGB(0,0,255),\n",
    "            LightBlue -> PColor.RGB(100,100,255))\n",
    "\n",
    "        val xaxis = Axis(\"Элементарные элементы\")\n",
    "        val yaxis = Axis(\"Количество\")\n",
    "        val xs = hist.elementsPresent.toSeq.sortBy(_.toString)\n",
    "        val marker = Marker(color = xs.map{case elem: Color => mapColors(elem)})\n",
    "        val ys = xs.map(e => hist(e).toDouble)\n",
    "        Bar(xs.map(_.toString), ys, marker = marker).plot()\n",
    "    }\n",
    "}\n",
    "\n",
    "def readImages(folder: File) = {\n",
    "    val files = (folder.isDirectory match {\n",
    "      case true => folder.listFiles().toList\n",
    "      case false => List(folder)\n",
    "    }).filterNot(_.getName.startsWith(\".\"))\n",
    "    val names = files.map(_.getName.split('.')(0))\n",
    "    val hists = files\n",
    "      .filterNot(_.isHidden)\n",
    "      .map(f => read(f))\n",
    "      .map(_.toHistogram)\n",
    "    names.zip(hists)\n",
    "}"
   ]
  },
  {
   "cell_type": "code",
   "execution_count": 5,
   "metadata": {
    "scrolled": true
   },
   "outputs": [
    {
     "name": "stdout",
     "output_type": "stream",
     "text": [
      "for evaluated 0.45 seconds\n",
      "map evaluated 3.77 seconds\n",
      "for evaluated 0.00 seconds\n",
      "map evaluated 0.02 seconds\n",
      "for evaluated 0.00 seconds\n",
      "map evaluated 0.01 seconds\n",
      "for evaluated 0.01 seconds\n",
      "map evaluated 0.01 seconds\n",
      "for evaluated 0.02 seconds\n",
      "map evaluated 0.02 seconds\n",
      "for evaluated 0.00 seconds\n",
      "map evaluated 0.00 seconds\n",
      "for evaluated 0.12 seconds\n",
      "map evaluated 0.23 seconds\n",
      "for evaluated 0.00 seconds\n",
      "map evaluated 0.01 seconds\n",
      "for evaluated 0.00 seconds\n",
      "map evaluated 0.01 seconds\n",
      "for evaluated 0.00 seconds\n",
      "map evaluated 0.01 seconds\n",
      "for evaluated 0.00 seconds\n",
      "map evaluated 0.01 seconds\n",
      "for evaluated 0.00 seconds\n",
      "map evaluated 0.01 seconds\n",
      "for evaluated 0.00 seconds\n",
      "map evaluated 0.01 seconds\n",
      "for evaluated 0.00 seconds\n",
      "map evaluated 0.01 seconds\n",
      "for evaluated 0.40 seconds\n",
      "map evaluated 0.91 seconds\n",
      "for evaluated 0.00 seconds\n",
      "map evaluated 0.01 seconds\n",
      "for evaluated 0.00 seconds\n",
      "map evaluated 0.01 seconds\n",
      "for evaluated 0.00 seconds\n",
      "map evaluated 0.01 seconds\n",
      "for evaluated 0.00 seconds\n",
      "map evaluated 0.01 seconds\n"
     ]
    },
    {
     "data": {
      "text/plain": [
       "\u001b[36mimagesHists\u001b[39m: \u001b[32mMap\u001b[39m[\u001b[32mString\u001b[39m, \u001b[32mHistogram\u001b[39m[\u001b[32mColor\u001b[39m]] = \u001b[33mMap\u001b[39m(\n",
       "  \u001b[32m\"l1_53_50_54_40\"\u001b[39m -> HistogramImpl(Map(GREEN -> 0.49612403100775193, YELLOW -> 0.25193798449612403, GREEN YELLOW -> 0.25193798449612403)),\n",
       "  \u001b[32m\"tiger\"\u001b[39m -> HistogramImpl(Map(RED -> 0.4363470923980478, GREEN -> 0.04863925883034163, BLUE -> 0.0013235172470841261, GREEN YELLOW -> 0.04723302175531475, YELLOW -> 0.4664571097692117)),\n",
       "  \u001b[32m\"sea\"\u001b[39m -> HistogramImpl(Map(RED -> 0.4970628318999953, GREEN -> 0.002208750411203534, BLUE -> 7.51915033601203E-4, GREEN YELLOW -> 0.002161755721603459, LIGHT BLUE -> 7.51915033601203E-4, YELLOW -> 0.4970628318999953)),\n",
       "  \u001b[32m\"l1_33_50_200_10\"\u001b[39m -> HistogramImpl(Map(RED -> 0.1004270313853137, GREEN -> 0.24293009227461404, BLUE -> 0.14760952011228237, GREEN YELLOW -> 0.24101890285782543, LIGHT BLUE -> 0.023591244363484337, YELLOW -> 0.24442320900648012)),\n",
       "\u001b[33m...\u001b[39m\n",
       "\u001b[36mimagesAliases\u001b[39m: \u001b[32mMap\u001b[39m[\u001b[32mString\u001b[39m, \u001b[32mHistogramInput\u001b[39m[\u001b[32mColor\u001b[39m]] = \u001b[33mMap\u001b[39m(\n",
       "  \u001b[32m\"l1_53_50_54_40\"\u001b[39m -> \u001b[33mHistogramInput\u001b[39m(\n",
       "    HistogramImpl(Map(GREEN -> 0.49612403100775193, YELLOW -> 0.25193798449612403, GREEN YELLOW -> 0.25193798449612403))\n",
       "  ),\n",
       "  \u001b[32m\"tiger\"\u001b[39m -> \u001b[33mHistogramInput\u001b[39m(\n",
       "    HistogramImpl(Map(RED -> 0.4363470923980478, GREEN -> 0.04863925883034163, BLUE -> 0.0013235172470841261, GREEN YELLOW -> 0.04723302175531475, YELLOW -> 0.4664571097692117))\n",
       "  ),\n",
       "  \u001b[32m\"sea\"\u001b[39m -> \u001b[33mHistogramInput\u001b[39m(\n",
       "    HistogramImpl(Map(RED -> 0.4970628318999953, GREEN -> 0.002208750411203534, \u001b[33m...\u001b[39m"
      ]
     },
     "execution_count": 5,
     "metadata": {},
     "output_type": "execute_result"
    }
   ],
   "source": [
    "val imagesHists = readImages(new File(\"images\")).toMap.mapValues(_.normalize)\n",
    "\n",
    "val imagesAliases = imagesHists.mapValues( hist => HistogramInput(hist))"
   ]
  },
  {
   "cell_type": "code",
   "execution_count": 31,
   "metadata": {},
   "outputs": [
    {
     "data": {
      "text/plain": [
       "\u001b[36mpixelsAliases\u001b[39m: \u001b[32mMap\u001b[39m[\u001b[32mString\u001b[39m, \u001b[32mSubhistogramInput\u001b[39m[\u001b[32m_27\u001b[39m] forSome { type \u001b[32m_27\u001b[39m >: \u001b[32mMagenta\u001b[39m.type with \u001b[32mCyan\u001b[39m.type <: \u001b[32mColor\u001b[39m }] = \u001b[33mMap\u001b[39m(\n",
       "  \u001b[32m\"magenta\"\u001b[39m -> SubhistogramInput(ru.hse.se.ba.danilin.paul.histogram_model.histogram.Implicits$SetUniverse@7f9a73aa),\n",
       "  \u001b[32m\"blue\"\u001b[39m -> SubhistogramInput(ru.hse.se.ba.danilin.paul.histogram_model.histogram.Implicits$SetUniverse@3e42a8f9),\n",
       "  \u001b[32m\"green\"\u001b[39m -> SubhistogramInput(ru.hse.se.ba.danilin.paul.histogram_model.histogram.Implicits$SetUniverse@7a0440d4),\n",
       "  \u001b[32m\"yellow\"\u001b[39m -> SubhistogramInput(ru.hse.se.ba.danilin.paul.histogram_model.histogram.Implicits$SetUniverse@63927670),\n",
       "  \u001b[32m\"cyan\"\u001b[39m -> SubhistogramInput(ru.hse.se.ba.danilin.paul.histogram_model.histogram.Implicits$SetUniverse@4f394e8b),\n",
       "  \u001b[32m\"red\"\u001b[39m -> SubhistogramInput(ru.hse.se.ba.danilin.paul.histogram_model.histogram\u001b[33m...\u001b[39m"
      ]
     },
     "execution_count": 31,
     "metadata": {},
     "output_type": "execute_result"
    }
   ],
   "source": [
    "val pixelsAliases = Map(\n",
    "                       \"blue\" -> SubhistogramInput(Set(Blue, LightBlue)),\n",
    "                       \"red\" -> SubhistogramInput(Set(Red, Yellow)),\n",
    "                       \"green\" -> SubhistogramInput(Set(GreenYellow, Green)),\n",
    "                       \"yellow\" -> SubhistogramInput(Set(GreenYellow, Yellow)),\n",
    "                       \"cyan\" -> SubhistogramInput(Set(Cyan)),\n",
    "                       \"magenta\" -> SubhistogramInput(Set(Magenta)))"
   ]
  },
  {
   "cell_type": "code",
   "execution_count": 32,
   "metadata": {
    "scrolled": true
   },
   "outputs": [
    {
     "data": {
      "text/plain": [
       "\u001b[32mimport \u001b[39m\u001b[36mru.hse.se.ba.danilin.paul.histogram_model.queries.Input\n",
       "\n",
       "\u001b[39m\n",
       "\u001b[36maliases\u001b[39m: \u001b[32mMap\u001b[39m[\u001b[32mString\u001b[39m, \u001b[32mInput\u001b[39m[\u001b[32mColor\u001b[39m]] = \u001b[33mMap\u001b[39m(\n",
       "  \u001b[32m\"l1_53_50_54_40\"\u001b[39m -> \u001b[33mHistogramInput\u001b[39m(\n",
       "    HistogramImpl(Map(GREEN -> 0.49612403100775193, YELLOW -> 0.25193798449612403, GREEN YELLOW -> 0.25193798449612403))\n",
       "  ),\n",
       "  \u001b[32m\"intersect\"\u001b[39m -> \u001b[33mOperationInput\u001b[39m(\n",
       "    ru.hse.se.ba.danilin.paul.histogram_model.operations.Intersect$@5001c0b0\n",
       "  ),\n",
       "  \u001b[32m\"tiger\"\u001b[39m -> \u001b[33mHistogramInput\u001b[39m(\n",
       "    HistogramImpl(Map(RED -> 0.4363470923980478, GREEN -> 0.04863925883034163, BLUE -> 0.0013235172470841261, GREEN YELLOW -> 0.04723302175531475, YELLOW -> 0.4664571097692117))\n",
       "\u001b[33m...\u001b[39m"
      ]
     },
     "execution_count": 32,
     "metadata": {},
     "output_type": "execute_result"
    }
   ],
   "source": [
    "import ru.hse.se.ba.danilin.paul.histogram_model.queries.Input\n",
    "\n",
    "implicit val aliases = (Query.standardAliases[Color] ++ imagesAliases ++ pixelsAliases).asInstanceOf[Map[String, Input[Color]]]"
   ]
  },
  {
   "cell_type": "code",
   "execution_count": 33,
   "metadata": {},
   "outputs": [
    {
     "data": {
      "text/html": [
       "<div class=\"chart\" id=\"plot-1348209467\"></div>"
      ]
     },
     "metadata": {},
     "output_type": "display_data"
    },
    {
     "data": {
      "application/javascript": [
       "requirejs([\"plotly\"], function(Plotly) {\n",
       "  (function () {\n",
       "  var data0 = {\"type\":\"bar\",\"x\":[\"BLUE\",\"GREEN\",\"GREEN YELLOW\",\"LIGHT BLUE\",\"RED\",\"YELLOW\"],\"y\":[7.51915033601203E-4,0.002208750411203534,0.002161755721603459,7.51915033601203E-4,0.4970628318999953,0.4970628318999953],\"marker\":{\"color\":[\"rgb(0, 0, 255)\",\"rgb(0, 153, 0)\",\"rgb(210, 255, 77)\",\"rgb(100, 100, 255)\",\"rgb(255, 0, 0)\",\"rgb(255, 255, 0)\"]}};\n",
       "\n",
       "  var data = [data0];\n",
       "  var layout = {};\n",
       "\n",
       "  Plotly.plot('plot-1348209467', data, layout);\n",
       "})();\n",
       "});\n",
       "      "
      ]
     },
     "metadata": {},
     "output_type": "display_data"
    },
    {
     "data": {
      "text/plain": [
       "\u001b[36mres32\u001b[39m: \u001b[32mString\u001b[39m = \u001b[32m\"plot-1348209467\"\u001b[39m"
      ]
     },
     "execution_count": 33,
     "metadata": {},
     "output_type": "execute_result"
    }
   ],
   "source": [
    "imagesHists(\"sea\").draw"
   ]
  },
  {
   "cell_type": "code",
   "execution_count": 23,
   "metadata": {
    "scrolled": true
   },
   "outputs": [
    {
     "data": {
      "text/html": [
       "<div class=\"chart\" id=\"plot-1079623204\"></div>"
      ]
     },
     "metadata": {},
     "output_type": "display_data"
    },
    {
     "data": {
      "application/javascript": [
       "requirejs([\"plotly\"], function(Plotly) {\n",
       "  (function () {\n",
       "  var data0 = {\"type\":\"bar\",\"x\":[\"BLUE\"],\"y\":[0.0013235172470841261],\"marker\":{\"color\":[\"rgb(0, 0, 255)\"]}};\n",
       "\n",
       "  var data = [data0];\n",
       "  var layout = {};\n",
       "\n",
       "  Plotly.plot('plot-1079623204', data, layout);\n",
       "})();\n",
       "});\n",
       "      "
      ]
     },
     "metadata": {},
     "output_type": "display_data"
    },
    {
     "data": {
      "text/plain": [
       "\u001b[36mquery\u001b[39m: \u001b[32mQuery\u001b[39m[\u001b[32mColor\u001b[39m] = ru.hse.se.ba.danilin.paul.histogram_model.queries.Query@232faf63\n",
       "\u001b[36mresult\u001b[39m: \u001b[32mHistogram\u001b[39m[\u001b[32mColor\u001b[39m] = HistogramImpl(Map(BLUE -> 0.0013235172470841261))\n",
       "\u001b[36mres22_2\u001b[39m: \u001b[32mString\u001b[39m = \u001b[32m\"plot-1079623204\"\u001b[39m"
      ]
     },
     "execution_count": 23,
     "metadata": {},
     "output_type": "execute_result"
    }
   ],
   "source": [
    "val query = Query.fromString(\"blue\")(aliases)\n",
    "val result = query.execute(imagesHists(\"tiger\")).left.get\n",
    "result.draw"
   ]
  },
  {
   "cell_type": "code",
   "execution_count": 15,
   "metadata": {},
   "outputs": [
    {
     "data": {
      "text/plain": [
       "\u001b[36mres14\u001b[39m: \u001b[32mDouble\u001b[39m = \u001b[32m0.457711038961039\u001b[39m"
      ]
     },
     "execution_count": 15,
     "metadata": {},
     "output_type": "execute_result"
    }
   ],
   "source": [
    "result similar imagesHists(\"tiger\")"
   ]
  },
  {
   "cell_type": "code",
   "execution_count": 26,
   "metadata": {
    "scrolled": true
   },
   "outputs": [
    {
     "data": {
      "text/plain": [
       "\u001b[36mq\u001b[39m: \u001b[32mQuery\u001b[39m[\u001b[32mColor\u001b[39m] = ru.hse.se.ba.danilin.paul.histogram_model.queries.Query@392ddae1\n",
       "\u001b[36msea\u001b[39m: \u001b[32mHistogram\u001b[39m[\u001b[32mColor\u001b[39m] = HistogramImpl(Map(RED -> 0.4970628318999953, GREEN -> 0.002208750411203534, BLUE -> 7.51915033601203E-4, GREEN YELLOW -> 0.002161755721603459, LIGHT BLUE -> 7.51915033601203E-4, YELLOW -> 0.4970628318999953))\n",
       "\u001b[36mres\u001b[39m: \u001b[32mHistogram\u001b[39m[\u001b[32mColor\u001b[39m] = HistogramImpl(Map(RED -> 0.4970628318999953, YELLOW -> 0.4970628318999953, GREEN -> 0.002208750411203534))\n",
       "\u001b[36mres25_3\u001b[39m: \u001b[32mDouble\u001b[39m = \u001b[32m0.49927158231119884\u001b[39m"
      ]
     },
     "execution_count": 26,
     "metadata": {},
     "output_type": "execute_result"
    }
   ],
   "source": [
    "val q = Query.fromString(\"red | green\")(aliases)\n",
    "\n",
    "val sea = imagesHists(\"sea\")\n",
    "\n",
    "val res = q.execute(sea).left.get\n",
    "\n",
    "res similar sea"
   ]
  },
  {
   "cell_type": "code",
   "execution_count": 27,
   "metadata": {},
   "outputs": [
    {
     "data": {
      "text/html": [
       "<div class=\"chart\" id=\"plot-1052034051\"></div>"
      ]
     },
     "metadata": {},
     "output_type": "display_data"
    },
    {
     "data": {
      "application/javascript": [
       "requirejs([\"plotly\"], function(Plotly) {\n",
       "  (function () {\n",
       "  var data0 = {\"type\":\"bar\",\"x\":[\"BLUE\",\"GREEN\",\"GREEN YELLOW\",\"RED\",\"YELLOW\"],\"y\":[0.0013235172470841261,0.04863925883034163,0.04723302175531475,0.4363470923980478,0.4664571097692117],\"marker\":{\"color\":[\"rgb(0, 0, 255)\",\"rgb(0, 153, 0)\",\"rgb(210, 255, 77)\",\"rgb(255, 0, 0)\",\"rgb(255, 255, 0)\"]}};\n",
       "\n",
       "  var data = [data0];\n",
       "  var layout = {};\n",
       "\n",
       "  Plotly.plot('plot-1052034051', data, layout);\n",
       "})();\n",
       "});\n",
       "      "
      ]
     },
     "metadata": {},
     "output_type": "display_data"
    },
    {
     "data": {
      "text/plain": [
       "\u001b[36mtiger\u001b[39m: \u001b[32mHistogram\u001b[39m[\u001b[32mColor\u001b[39m] = HistogramImpl(Map(RED -> 0.4363470923980478, GREEN -> 0.04863925883034163, BLUE -> 0.0013235172470841261, GREEN YELLOW -> 0.04723302175531475, YELLOW -> 0.4664571097692117))\n",
       "\u001b[36mres26_1\u001b[39m: \u001b[32mString\u001b[39m = \u001b[32m\"plot-1052034051\"\u001b[39m"
      ]
     },
     "execution_count": 27,
     "metadata": {},
     "output_type": "execute_result"
    }
   ],
   "source": [
    "val tiger = imagesHists(\"tiger\")\n",
    "tiger.draw"
   ]
  },
  {
   "cell_type": "code",
   "execution_count": 28,
   "metadata": {},
   "outputs": [
    {
     "data": {
      "text/html": [
       "<div class=\"chart\" id=\"plot-370381557\"></div>"
      ]
     },
     "metadata": {},
     "output_type": "display_data"
    },
    {
     "data": {
      "application/javascript": [
       "requirejs([\"plotly\"], function(Plotly) {\n",
       "  (function () {\n",
       "  var data0 = {\"type\":\"bar\",\"x\":[\"GREEN\",\"RED\",\"YELLOW\"],\"y\":[0.04863925883034163,0.4363470923980478,0.4664571097692117],\"marker\":{\"color\":[\"rgb(0, 153, 0)\",\"rgb(255, 0, 0)\",\"rgb(255, 255, 0)\"]}};\n",
       "\n",
       "  var data = [data0];\n",
       "  var layout = {};\n",
       "\n",
       "  Plotly.plot('plot-370381557', data, layout);\n",
       "})();\n",
       "});\n",
       "      "
      ]
     },
     "metadata": {},
     "output_type": "display_data"
    },
    {
     "data": {
      "text/plain": [
       "\u001b[36mres\u001b[39m: \u001b[32mHistogram\u001b[39m[\u001b[32mColor\u001b[39m] = HistogramImpl(Map(RED -> 0.4363470923980478, YELLOW -> 0.4664571097692117, GREEN -> 0.04863925883034163))\n",
       "\u001b[36mres27_1\u001b[39m: \u001b[32mString\u001b[39m = \u001b[32m\"plot-370381557\"\u001b[39m\n",
       "\u001b[36mres27_2\u001b[39m: \u001b[32mDouble\u001b[39m = \u001b[32m0.9079266233336677\u001b[39m"
      ]
     },
     "execution_count": 28,
     "metadata": {},
     "output_type": "execute_result"
    }
   ],
   "source": [
    "val res = q.execute(tiger).left.get\n",
    "res.draw\n",
    "tiger similar sea"
   ]
  },
  {
   "cell_type": "code",
   "execution_count": 36,
   "metadata": {},
   "outputs": [
    {
     "data": {
      "text/html": [
       "<div class=\"chart\" id=\"plot-486522627\"></div>"
      ]
     },
     "metadata": {},
     "output_type": "display_data"
    },
    {
     "data": {
      "application/javascript": [
       "requirejs([\"plotly\"], function(Plotly) {\n",
       "  (function () {\n",
       "  var data0 = {\"type\":\"bar\",\"x\":[\"GREEN\",\"GREEN YELLOW\",\"YELLOW\"],\"y\":[0.04863925883034163,0.04723302175531475,0.4664571097692117],\"marker\":{\"color\":[\"rgb(0, 153, 0)\",\"rgb(210, 255, 77)\",\"rgb(255, 255, 0)\"]}};\n",
       "\n",
       "  var data = [data0];\n",
       "  var layout = {};\n",
       "\n",
       "  Plotly.plot('plot-486522627', data, layout);\n",
       "})();\n",
       "});\n",
       "      "
      ]
     },
     "metadata": {},
     "output_type": "display_data"
    },
    {
     "data": {
      "text/plain": [
       "\u001b[36mquery\u001b[39m: \u001b[32mQuery\u001b[39m[\u001b[32mColor\u001b[39m] = ru.hse.se.ba.danilin.paul.histogram_model.queries.Query@4ad0e5ba\n",
       "\u001b[36mresult\u001b[39m: \u001b[32mHistogram\u001b[39m[\u001b[32mColor\u001b[39m] = HistogramImpl(Map(GREEN -> 0.04863925883034163, GREEN YELLOW -> 0.04723302175531475, YELLOW -> 0.4664571097692117))\n",
       "\u001b[36mres35_2\u001b[39m: \u001b[32mString\u001b[39m = \u001b[32m\"plot-486522627\"\u001b[39m"
      ]
     },
     "execution_count": 36,
     "metadata": {},
     "output_type": "execute_result"
    }
   ],
   "source": [
    "val query = Query.fromString(\"green|yellow\")(aliases)\n",
    "val result = query.execute(imagesHists(\"tiger\")).left.get\n",
    "result.draw"
   ]
  },
  {
   "cell_type": "code",
   "execution_count": 37,
   "metadata": {
    "scrolled": false
   },
   "outputs": [
    {
     "data": {
      "text/html": [
       "<div class=\"chart\" id=\"plot-781808994\"></div>"
      ]
     },
     "metadata": {},
     "output_type": "display_data"
    },
    {
     "data": {
      "application/javascript": [
       "requirejs([\"plotly\"], function(Plotly) {\n",
       "  (function () {\n",
       "  var data0 = {\"type\":\"bar\",\"x\":[\"GREEN\",\"GREEN YELLOW\",\"YELLOW\"],\"y\":[0.002208750411203534,0.002161755721603459,0.4970628318999953],\"marker\":{\"color\":[\"rgb(0, 153, 0)\",\"rgb(210, 255, 77)\",\"rgb(255, 255, 0)\"]}};\n",
       "\n",
       "  var data = [data0];\n",
       "  var layout = {};\n",
       "\n",
       "  Plotly.plot('plot-781808994', data, layout);\n",
       "})();\n",
       "});\n",
       "      "
      ]
     },
     "metadata": {},
     "output_type": "display_data"
    },
    {
     "data": {
      "text/plain": [
       "\u001b[36mnewQuery\u001b[39m: \u001b[32mQuery\u001b[39m[\u001b[32mColor\u001b[39m] = ru.hse.se.ba.danilin.paul.histogram_model.queries.Query@452191fc\n",
       "\u001b[36mresult\u001b[39m: \u001b[32mHistogram\u001b[39m[\u001b[32mColor\u001b[39m] = HistogramImpl(Map(GREEN -> 0.002208750411203534, GREEN YELLOW -> 0.002161755721603459, YELLOW -> 0.4970628318999953))\n",
       "\u001b[36mres36_2\u001b[39m: \u001b[32mString\u001b[39m = \u001b[32m\"plot-781808994\"\u001b[39m"
      ]
     },
     "execution_count": 37,
     "metadata": {},
     "output_type": "execute_result"
    }
   ],
   "source": [
    "val newQuery = new Query(query.injectHistogram(imagesHists(\"sea\")))\n",
    "val result = newQuery.execute(imagesHists(\"tiger\")).left.get\n",
    "result.draw"
   ]
  },
  {
   "cell_type": "code",
   "execution_count": 38,
   "metadata": {},
   "outputs": [
    {
     "data": {
      "text/html": [
       "<div class=\"chart\" id=\"plot-818954520\"></div>"
      ]
     },
     "metadata": {},
     "output_type": "display_data"
    },
    {
     "data": {
      "application/javascript": [
       "requirejs([\"plotly\"], function(Plotly) {\n",
       "  (function () {\n",
       "  var data0 = {\"type\":\"bar\",\"x\":[\"BLUE\",\"GREEN\",\"GREEN YELLOW\",\"LIGHT BLUE\",\"RED\",\"YELLOW\"],\"y\":[0.0013235172470841261,0.04863925883034163,0.04723302175531475,7.51915033601203E-4,0.4970628318999953,0.4970628318999953],\"marker\":{\"color\":[\"rgb(0, 0, 255)\",\"rgb(0, 153, 0)\",\"rgb(210, 255, 77)\",\"rgb(100, 100, 255)\",\"rgb(255, 0, 0)\",\"rgb(255, 255, 0)\"]}};\n",
       "\n",
       "  var data = [data0];\n",
       "  var layout = {};\n",
       "\n",
       "  Plotly.plot('plot-818954520', data, layout);\n",
       "})();\n",
       "});\n",
       "      "
      ]
     },
     "metadata": {},
     "output_type": "display_data"
    },
    {
     "data": {
      "text/plain": [
       "\u001b[36mresult\u001b[39m: \u001b[32mHistogram\u001b[39m[\u001b[32mColor\u001b[39m] = HistogramImpl(Map(RED -> 0.4970628318999953, GREEN -> 0.04863925883034163, BLUE -> 0.0013235172470841261, GREEN YELLOW -> 0.04723302175531475, LIGHT BLUE -> 7.51915033601203E-4, YELLOW -> 0.4970628318999953))\n",
       "\u001b[36mres37_1\u001b[39m: \u001b[32mString\u001b[39m = \u001b[32m\"plot-818954520\"\u001b[39m"
      ]
     },
     "execution_count": 38,
     "metadata": {},
     "output_type": "execute_result"
    }
   ],
   "source": [
    "val result = imagesHists(\"sea\") + imagesHists(\"tiger\")\n",
    "result.draw"
   ]
  },
  {
   "cell_type": "code",
   "execution_count": 17,
   "metadata": {},
   "outputs": [
    {
     "data": {
      "text/plain": [
       "\u001b[36mres16\u001b[39m: \u001b[32mDouble\u001b[39m = \u001b[32m0.0012987012987012987\u001b[39m"
      ]
     },
     "execution_count": 17,
     "metadata": {},
     "output_type": "execute_result"
    }
   ],
   "source": [
    "result(Blue)"
   ]
  },
  {
   "cell_type": "code",
   "execution_count": 18,
   "metadata": {},
   "outputs": [
    {
     "data": {
      "text/plain": [
       "\u001b[36mres17\u001b[39m: \u001b[32mDouble\u001b[39m = \u001b[32m0.9235000254056485\u001b[39m"
      ]
     },
     "execution_count": 18,
     "metadata": {},
     "output_type": "execute_result"
    }
   ],
   "source": [
    "imagesHists(\"sea\") similar imagesHists(\"tiger\")"
   ]
  },
  {
   "cell_type": "code",
   "execution_count": 24,
   "metadata": {},
   "outputs": [
    {
     "data": {
      "text/plain": [
       "\u001b[32mimport \u001b[39m\u001b[36mru.hse.se.ba.danilin.paul.histogram_model.histogram.Implicits._\n",
       "\u001b[39m\n",
       "\u001b[32mimport \u001b[39m\u001b[36morg.json4s.native.Serialization.{write, read => readJson}\n",
       "\u001b[39m\n",
       "\u001b[32mimport \u001b[39m\u001b[36mjava.io.PrintWriter\n",
       "\n",
       "\u001b[39m\n",
       "\u001b[36mjson\u001b[39m: \u001b[32mString\u001b[39m = \u001b[32m\"\"\"\n",
       "{\"histogram\":{\"GREEN\":0.04772727272727273,\"BLUE\":0.0012987012987012987,\"CYAN\":0.002922077922077922,\"YELLOW\":0.4811882989854875,\"RED\":0.4811882989854875,\"MAGENTA\":0.062175324675324675}}\n",
       "\"\"\"\u001b[39m\n",
       "\u001b[36mwriter\u001b[39m: \u001b[32mPrintWriter\u001b[39m = java.io.PrintWriter@464ed468"
      ]
     },
     "execution_count": 24,
     "metadata": {},
     "output_type": "execute_result"
    }
   ],
   "source": [
    "import ru.hse.se.ba.danilin.paul.histogram_model.histogram.Implicits._\n",
    "import org.json4s.native.Serialization.{write, read => readJson}\n",
    "import java.io.PrintWriter\n",
    "\n",
    "val json = write(result)\n",
    "val writer = new PrintWriter(new File(\"test result.json\"))\n",
    "writer.write(json)\n",
    "writer.close()"
   ]
  },
  {
   "cell_type": "code",
   "execution_count": 23,
   "metadata": {},
   "outputs": [
    {
     "data": {
      "text/plain": [
       "\u001b[36mwriter\u001b[39m: \u001b[32mPrintWriter\u001b[39m = java.io.PrintWriter@4997974"
      ]
     },
     "execution_count": 23,
     "metadata": {},
     "output_type": "execute_result"
    }
   ],
   "source": [
    "val writer = new PrintWriter(new File(\"test result.txt\"))\n",
    "writer.write(imagesHists(\"sea\") similar imagesHists(\"tiger\") toString)\n",
    "writer.close()"
   ]
  }
 ],
 "metadata": {
  "kernelspec": {
   "display_name": "Scala",
   "language": "scala",
   "name": "scala"
  },
  "language_info": {
   "codemirror_mode": "text/x-scala",
   "file_extension": ".scala",
   "mimetype": "text/x-scala",
   "name": "scala211",
   "nbconvert_exporter": "script",
   "pygments_lexer": "scala",
   "version": "2.11.11"
  }
 },
 "nbformat": 4,
 "nbformat_minor": 2
}
