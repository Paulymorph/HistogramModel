{
 "cells": [
  {
   "cell_type": "code",
   "execution_count": 1,
   "metadata": {},
   "outputs": [
    {
     "data": {
      "text/plain": [
       "\u001b[36mpathToJar\u001b[39m: \u001b[32mString\u001b[39m = \u001b[32m\"/Users/pauldanilin/Documents/HSE/CourseWorks/HistogramModel/Demonstration/HistogramModel.jar\"\u001b[39m\n",
       "\u001b[36mx\u001b[39m: \u001b[32mammonite\u001b[39m.\u001b[32mops\u001b[39m.\u001b[32mPath\u001b[39m = /Users/pauldanilin/Documents/HSE/CourseWorks/HistogramModel/Demonstration/HistogramModel.jar"
      ]
     },
     "execution_count": 1,
     "metadata": {},
     "output_type": "execute_result"
    }
   ],
   "source": [
    "val pathToJar = System.getProperty(\"user.dir\") + \"/HistogramModel.jar\"\n",
    "val x = ammonite.ops.Path(pathToJar)\n",
    "interp.load.cp(x)"
   ]
  },
  {
   "cell_type": "code",
   "execution_count": 2,
   "metadata": {},
   "outputs": [
    {
     "data": {
      "text/html": [
       "\n",
       "      <script type=\"text/javascript\">\n",
       "        require.config({\n",
       "  paths: {\n",
       "    d3: 'https://cdnjs.cloudflare.com/ajax/libs/d3/3.5.17/d3.min',\n",
       "    plotly: 'https://cdn.plot.ly/plotly-1.12.0.min'\n",
       "  },\n",
       "\n",
       "  shim: {\n",
       "    plotly: {\n",
       "      deps: ['d3', 'jquery'],\n",
       "      exports: 'plotly'\n",
       "    }\n",
       "  }\n",
       "});\n",
       "        \n",
       "\n",
       "        require(['plotly'], function(Plotly) {\n",
       "          window.Plotly = Plotly;\n",
       "        });\n",
       "      </script>\n",
       "    "
      ]
     },
     "metadata": {},
     "output_type": "display_data"
    },
    {
     "data": {
      "text/plain": [
       "\u001b[32mimport \u001b[39m\u001b[36mru.hse.se.ba.danilin.paul.histogram_model.histogram.Implicits._\n",
       "\u001b[39m\n",
       "\u001b[32mimport \u001b[39m\u001b[36mru.hse.se.ba.danilin.paul.histogram_model.histogram.Histogram\n",
       "\u001b[39m\n",
       "\u001b[32mimport \u001b[39m\u001b[36mru.hse.se.ba.danilin.paul.histogram_model.histogram.HistogramImpl\n",
       "\n",
       "\u001b[39m\n",
       "\u001b[32mimport \u001b[39m\u001b[36m$ivy.$                                             \n",
       "\n",
       "\u001b[39m\n",
       "\u001b[32mimport \u001b[39m\u001b[36mplotly._\n",
       "\u001b[39m\n",
       "\u001b[32mimport \u001b[39m\u001b[36mplotly.element._\n",
       "\u001b[39m\n",
       "\u001b[32mimport \u001b[39m\u001b[36mplotly.layout._\n",
       "\u001b[39m\n",
       "\u001b[32mimport \u001b[39m\u001b[36mplotly.JupyterScala._\n",
       "\n",
       "\u001b[39m"
      ]
     },
     "execution_count": 2,
     "metadata": {},
     "output_type": "execute_result"
    }
   ],
   "source": [
    "import ru.hse.se.ba.danilin.paul.histogram_model.histogram.Implicits._\n",
    "import ru.hse.se.ba.danilin.paul.histogram_model.histogram.Histogram\n",
    "import ru.hse.se.ba.danilin.paul.histogram_model.histogram.HistogramImpl\n",
    "\n",
    "import $ivy.`org.plotly-scala::plotly-jupyter-scala:0.3.1`\n",
    "\n",
    "import plotly._\n",
    "import plotly.element._\n",
    "import plotly.layout._\n",
    "import plotly.JupyterScala._\n",
    "\n",
    "plotly.JupyterScala.init()"
   ]
  },
  {
   "cell_type": "code",
   "execution_count": 3,
   "metadata": {},
   "outputs": [
    {
     "data": {
      "text/plain": [
       "\u001b[36mhistogram\u001b[39m: \u001b[32mHistogramImpl\u001b[39m[\u001b[32mString\u001b[39m] = HistogramImpl(Map(a -> 3.0, qwe -> 5.0))"
      ]
     },
     "execution_count": 3,
     "metadata": {},
     "output_type": "execute_result"
    }
   ],
   "source": [
    "val histogram = HistogramImpl(Map(\"a\" -> 3, \"qwe\" -> 5))"
   ]
  },
  {
   "cell_type": "code",
   "execution_count": 4,
   "metadata": {},
   "outputs": [
    {
     "data": {
      "text/plain": [
       "\u001b[36mhistogram\u001b[39m: \u001b[32mHistogram\u001b[39m[\u001b[32mString\u001b[39m] = HistogramImpl(Map(a -> 2.0, b -> 1.0, c -> 1.0))"
      ]
     },
     "execution_count": 4,
     "metadata": {},
     "output_type": "execute_result"
    }
   ],
   "source": [
    "val histogram = HistogramImpl.extract(\"a b c a\")"
   ]
  },
  {
   "cell_type": "code",
   "execution_count": 5,
   "metadata": {},
   "outputs": [
    {
     "data": {
      "text/plain": [
       "defined \u001b[32mclass\u001b[39m \u001b[36mDrawableHistogram\u001b[39m\n",
       "\u001b[32mimport \u001b[39m\u001b[36mru.hse.se.ba.danilin.paul.histogram_model.atomizers.Color\n",
       "\u001b[39m\n",
       "\u001b[32mimport \u001b[39m\u001b[36mjava.io.File\n",
       "\u001b[39m\n",
       "\u001b[32mimport \u001b[39m\u001b[36mjavax.imageio.ImageIO.read\n",
       "\n",
       "\u001b[39m\n",
       "defined \u001b[32mfunction\u001b[39m \u001b[36mreadImages\u001b[39m"
      ]
     },
     "execution_count": 5,
     "metadata": {},
     "output_type": "execute_result"
    }
   ],
   "source": [
    "implicit class DrawableHistogram[E](hist: Histogram[E]) {\n",
    "    def draw() = {\n",
    "        val xs = hist.elementsPresent.toSeq.sortBy(_.toString)\n",
    "        val ys = xs.map(e => hist(e).toDouble)\n",
    "        Bar(xs.map(_.toString), ys).plot()\n",
    "    }\n",
    "}\n",
    "\n",
    "import ru.hse.se.ba.danilin.paul.histogram_model.atomizers.Color\n",
    "import java.io.File\n",
    "import javax.imageio.ImageIO.read\n",
    "\n",
    "def readImages(folder: File) = {\n",
    "    val files = (folder.isDirectory match {\n",
    "      case true => folder.listFiles().toList\n",
    "      case false => List(folder)\n",
    "    }).filterNot(_.getName.startsWith(\".\"))\n",
    "    val names = files.map(_.getName.split('.')(0))\n",
    "    val hists = files\n",
    "      .filterNot(_.isHidden)\n",
    "      .map(f => read(f))\n",
    "      .map(_.toHistogram)\n",
    "    names.zip(hists)\n",
    "}"
   ]
  },
  {
   "cell_type": "code",
   "execution_count": 6,
   "metadata": {},
   "outputs": [
    {
     "data": {
      "text/plain": [
       "\u001b[32mimport \u001b[39m\u001b[36mru.hse.se.ba.danilin.paul.histogram_model.queries.HistogramInput\u001b[39m"
      ]
     },
     "execution_count": 6,
     "metadata": {},
     "output_type": "execute_result"
    }
   ],
   "source": [
    "import ru.hse.se.ba.danilin.paul.histogram_model.queries.HistogramInput"
   ]
  },
  {
   "cell_type": "code",
   "execution_count": 7,
   "metadata": {
    "scrolled": true
   },
   "outputs": [
    {
     "data": {
      "text/plain": [
       "\u001b[36mimagesHists\u001b[39m: \u001b[32mMap\u001b[39m[\u001b[32mString\u001b[39m, \u001b[32mHistogram\u001b[39m[\u001b[32mColor\u001b[39m]] = \u001b[33mMap\u001b[39m(\n",
       "  \u001b[32m\"l1_53_50_54_40\"\u001b[39m -> HistogramImpl(Map(GREEN -> 0.49612403100775193, YELLOW -> 0.25193798449612403, CYAN -> 0.25193798449612403)),\n",
       "  \u001b[32m\"tiger\"\u001b[39m -> HistogramImpl(Map(BLUE -> 0.0012987012987012987, CYAN -> 0.002922077922077922, YELLOW -> 0.457711038961039, RED -> 0.4281655844155844, MAGENTA -> 0.062175324675324675, GREEN -> 0.04772727272727273)),\n",
       "  \u001b[32m\"sea\"\u001b[39m -> HistogramImpl(Map(BLUE -> 7.279013693644511E-4, CYAN -> 5.004321914380602E-4, YELLOW -> 0.4811882989854875, RED -> 0.4811882989854875, MAGENTA -> 0.03425685819571448, GREEN -> 0.0021382102725080753)),\n",
       "  \u001b[32m\"l1_33_50_200_10\"\u001b[39m -> HistogramImpl(Map(BLUE -> 0.1469512738948182, CYAN -> 0.14736748223682256, YELLOW -> 0.24333323423610906, RED -> 0.09997918958289978, MAGENTA -> 0.12052204417754259, GREEN -> 0.24184677587180783)),\n",
       "\u001b[33m...\u001b[39m\n",
       "\u001b[36mimagesAliases\u001b[39m: \u001b[32mMap\u001b[39m[\u001b[32mString\u001b[39m, \u001b[32mHistogramInput\u001b[39m[\u001b[32mColor\u001b[39m]] = \u001b[33mMap\u001b[39m(\n",
       "  \u001b[32m\"l1_53_50_54_40\"\u001b[39m -> \u001b[33mHistogramInput\u001b[39m(\n",
       "    HistogramImpl(Map(GREEN -> 0.49612403100775193, YELLOW -> 0.25193798449612403, CYAN -> 0.25193798449612403))\n",
       "  ),\n",
       "  \u001b[32m\"tiger\"\u001b[39m -> \u001b[33mHistogramInput\u001b[39m(\n",
       "    HistogramImpl(Map(BLUE -> 0.0012987012987012987, CYAN -> 0.002922077922077922, YELLOW -> 0.457711038961039, RED -> 0.4281655844155844, MAGENTA -> 0.062175324675324675, GREEN -> 0.04772727272727273))\n",
       "  ),\n",
       "  \u001b[32m\"sea\"\u001b[39m -> \u001b[33mHistogramInput\u001b[39m(\n",
       "    HistogramImpl(Map(BLUE -> 7.279013693644511E-4, CYAN -> 5.004321914380602E-4\u001b[33m...\u001b[39m"
      ]
     },
     "execution_count": 7,
     "metadata": {},
     "output_type": "execute_result"
    }
   ],
   "source": [
    "val imagesHists = readImages(new File(\"images\")).toMap.mapValues(_.normalize)\n",
    "\n",
    "val imagesAliases = imagesHists.mapValues( hist => HistogramInput(hist))"
   ]
  },
  {
   "cell_type": "code",
   "execution_count": 8,
   "metadata": {},
   "outputs": [
    {
     "data": {
      "text/plain": [
       "\u001b[32mimport \u001b[39m\u001b[36mru.hse.se.ba.danilin.paul.histogram_model.queries.SubhistogramInput\n",
       "\u001b[39m\n",
       "\u001b[32mimport \u001b[39m\u001b[36mru.hse.se.ba.danilin.paul.histogram_model.atomizers._\n",
       "\u001b[39m\n",
       "\u001b[32mimport \u001b[39m\u001b[36mru.hse.se.ba.danilin.paul.histogram_model.queries.Query\u001b[39m"
      ]
     },
     "execution_count": 8,
     "metadata": {},
     "output_type": "execute_result"
    }
   ],
   "source": [
    "import ru.hse.se.ba.danilin.paul.histogram_model.queries.SubhistogramInput\n",
    "import ru.hse.se.ba.danilin.paul.histogram_model.atomizers._\n",
    "import ru.hse.se.ba.danilin.paul.histogram_model.queries.Query"
   ]
  },
  {
   "cell_type": "code",
   "execution_count": 9,
   "metadata": {},
   "outputs": [
    {
     "data": {
      "text/plain": [
       "\u001b[36mpixelsAliases\u001b[39m: \u001b[32mMap\u001b[39m[\u001b[32mString\u001b[39m, \u001b[32mSubhistogramInput\u001b[39m[\u001b[32m_6\u001b[39m] forSome { type \u001b[32m_6\u001b[39m >: \u001b[32mMagenta\u001b[39m.type with \u001b[32mCyan\u001b[39m.type with \u001b[32mYellow\u001b[39m.type with \u001b[32mGreen\u001b[39m.type with \u001b[32mBlue\u001b[39m.type <: \u001b[32mColor\u001b[39m }] = \u001b[33mMap\u001b[39m(\n",
       "  \u001b[32m\"magenta\"\u001b[39m -> SubhistogramInput(ru.hse.se.ba.danilin.paul.histogram_model.histogram.Implicits$SetUniverse@3a494229),\n",
       "  \u001b[32m\"blue\"\u001b[39m -> SubhistogramInput(ru.hse.se.ba.danilin.paul.histogram_model.histogram.Implicits$SetUniverse@67cc1ae4),\n",
       "  \u001b[32m\"green\"\u001b[39m -> SubhistogramInput(ru.hse.se.ba.danilin.paul.histogram_model.histogram.Implicits$SetUniverse@156d56bb),\n",
       "  \u001b[32m\"yellow\"\u001b[39m -> SubhistogramInput(ru.hse.se.ba.danilin.paul.histogram_model.histogram.Implicits$SetUniverse@4d01fafe),\n",
       "  \u001b[32m\"cyan\"\u001b[39m -> SubhistogramInput(ru.hse.se.ba.danilin.paul.histogram_model.histogram.Implicits$SetUniverse@3da9a17d),\n",
       "  \u001b[32m\"red\"\u001b[39m -> SubhistogramInput(ru.hse.se.ba.danilin.paul.histogram_model.histogram\u001b[33m...\u001b[39m"
      ]
     },
     "execution_count": 9,
     "metadata": {},
     "output_type": "execute_result"
    }
   ],
   "source": [
    "val pixelsAliases = Map(\"blue\" -> SubhistogramInput(Set(Blue)),\n",
    "                       \"red\" -> SubhistogramInput(Set(Red, Yellow)),\n",
    "                       \"green\" -> SubhistogramInput(Set(Green)),\n",
    "                       \"yellow\" -> SubhistogramInput(Set(Yellow)),\n",
    "                       \"cyan\" -> SubhistogramInput(Set(Cyan)),\n",
    "                       \"magenta\" -> SubhistogramInput(Set(Magenta)))"
   ]
  },
  {
   "cell_type": "code",
   "execution_count": 10,
   "metadata": {
    "scrolled": true
   },
   "outputs": [
    {
     "data": {
      "text/plain": [
       "\u001b[32mimport \u001b[39m\u001b[36mru.hse.se.ba.danilin.paul.histogram_model.queries.Input\n",
       "\n",
       "\u001b[39m\n",
       "\u001b[36maliases\u001b[39m: \u001b[32mMap\u001b[39m[\u001b[32mString\u001b[39m, \u001b[32mru\u001b[39m.\u001b[32mhse\u001b[39m.\u001b[32mse\u001b[39m.\u001b[32mba\u001b[39m.\u001b[32mdanilin\u001b[39m.\u001b[32mpaul\u001b[39m.\u001b[32mhistogram_model\u001b[39m.\u001b[32mqueries\u001b[39m.\u001b[32mInput\u001b[39m[\u001b[32mColor\u001b[39m]] = \u001b[33mMap\u001b[39m(\n",
       "  \u001b[32m\"l1_53_50_54_40\"\u001b[39m -> \u001b[33mHistogramInput\u001b[39m(\n",
       "    HistogramImpl(Map(GREEN -> 0.49612403100775193, YELLOW -> 0.25193798449612403, CYAN -> 0.25193798449612403))\n",
       "  ),\n",
       "  \u001b[32m\"intersect\"\u001b[39m -> \u001b[33mOperationInput\u001b[39m(\n",
       "    ru.hse.se.ba.danilin.paul.histogram_model.operations.Intersect$@1c1f6c6a\n",
       "  ),\n",
       "  \u001b[32m\"tiger\"\u001b[39m -> \u001b[33mHistogramInput\u001b[39m(\n",
       "    HistogramImpl(Map(BLUE -> 0.0012987012987012987, CYAN -> 0.002922077922077922, YELLOW -> 0.457711038961039, RED -> 0.4281655844155844, MAGENTA -> 0.062175324675324675, GREEN -> 0.04772727272727273))\n",
       "\u001b[33m...\u001b[39m"
      ]
     },
     "execution_count": 10,
     "metadata": {},
     "output_type": "execute_result"
    }
   ],
   "source": [
    "import ru.hse.se.ba.danilin.paul.histogram_model.queries.Input\n",
    "\n",
    "implicit val aliases = (Query.standardAliases[Color] ++ imagesAliases ++ pixelsAliases).asInstanceOf[Map[String, Input[Color]]]"
   ]
  },
  {
   "cell_type": "code",
   "execution_count": 25,
   "metadata": {},
   "outputs": [
    {
     "data": {
      "text/html": [
       "<div class=\"chart\" id=\"plot-524731724\"></div>"
      ]
     },
     "metadata": {},
     "output_type": "display_data"
    },
    {
     "data": {
      "application/javascript": [
       "requirejs([\"plotly\"], function(Plotly) {\n",
       "  (function () {\n",
       "  var data0 = {\"type\":\"bar\",\"x\":[\"RED\",\"YELLOW\"],\"y\":[0.4281655844155844,0.457711038961039]};\n",
       "\n",
       "  var data = [data0];\n",
       "  var layout = {};\n",
       "\n",
       "  Plotly.plot('plot-524731724', data, layout);\n",
       "})();\n",
       "});\n",
       "      "
      ]
     },
     "metadata": {},
     "output_type": "display_data"
    },
    {
     "data": {
      "text/plain": [
       "\u001b[36mquery\u001b[39m: \u001b[32mQuery\u001b[39m[\u001b[32mColor\u001b[39m] = ru.hse.se.ba.danilin.paul.histogram_model.queries.Query@1e0bbd97\n",
       "\u001b[36mresult\u001b[39m: \u001b[32mHistogram\u001b[39m[\u001b[32mColor\u001b[39m] = HistogramImpl(Map(YELLOW -> 0.457711038961039, RED -> 0.4281655844155844))\n",
       "\u001b[36mres24_2\u001b[39m: \u001b[32mString\u001b[39m = \u001b[32m\"plot-524731724\"\u001b[39m"
      ]
     },
     "execution_count": 25,
     "metadata": {},
     "output_type": "execute_result"
    }
   ],
   "source": [
    "val query = Query.fromString(\"red|yellow\")(aliases)\n",
    "val result = query.execute(imagesHists(\"tiger\")).left.get\n",
    "result.draw"
   ]
  },
  {
   "cell_type": "code",
   "execution_count": 11,
   "metadata": {
    "scrolled": true
   },
   "outputs": [
    {
     "data": {
      "text/plain": [
       "\u001b[36mq\u001b[39m: \u001b[32mQuery\u001b[39m[\u001b[32mColor\u001b[39m] = ru.hse.se.ba.danilin.paul.histogram_model.queries.Query@4af9613a"
      ]
     },
     "execution_count": 11,
     "metadata": {},
     "output_type": "execute_result"
    }
   ],
   "source": [
    "val q = Query.fromString(\"red | green\")(aliases)\n",
    "\n",
    "val sea = imagesHists(\"sea\")\n",
    "\n",
    "val res = q.execute(sea).left.get\n",
    "\n",
    "res similar sea"
   ]
  },
  {
   "cell_type": "code",
   "execution_count": 13,
   "metadata": {},
   "outputs": [
    {
     "data": {
      "text/html": [
       "<div class=\"chart\" id=\"plot-478142097\"></div>"
      ]
     },
     "metadata": {},
     "output_type": "display_data"
    },
    {
     "data": {
      "application/javascript": [
       "requirejs([\"plotly\"], function(Plotly) {\n",
       "  (function () {\n",
       "  var data0 = {\"type\":\"bar\",\"x\":[\"BLUE\",\"CYAN\",\"GREEN\",\"MAGENTA\",\"RED\",\"YELLOW\"],\"y\":[0.0012987012987012987,0.002922077922077922,0.04772727272727273,0.062175324675324675,0.4281655844155844,0.457711038961039]};\n",
       "\n",
       "  var data = [data0];\n",
       "  var layout = {};\n",
       "\n",
       "  Plotly.plot('plot-478142097', data, layout);\n",
       "})();\n",
       "});\n",
       "      "
      ]
     },
     "metadata": {},
     "output_type": "display_data"
    },
    {
     "data": {
      "text/plain": [
       "\u001b[36mtiger\u001b[39m: \u001b[32mHistogram\u001b[39m[\u001b[32mColor\u001b[39m] = HistogramImpl(Map(BLUE -> 0.0012987012987012987, CYAN -> 0.002922077922077922, YELLOW -> 0.457711038961039, RED -> 0.4281655844155844, MAGENTA -> 0.062175324675324675, GREEN -> 0.04772727272727273))\n",
       "\u001b[36mres12_1\u001b[39m: \u001b[32mString\u001b[39m = \u001b[32m\"plot-478142097\"\u001b[39m"
      ]
     },
     "execution_count": 13,
     "metadata": {},
     "output_type": "execute_result"
    }
   ],
   "source": [
    "val tiger = imagesHists(\"tiger\")\n",
    "tiger.draw"
   ]
  },
  {
   "cell_type": "code",
   "execution_count": 14,
   "metadata": {},
   "outputs": [
    {
     "data": {
      "text/html": [
       "<div class=\"chart\" id=\"plot-1511046086\"></div>"
      ]
     },
     "metadata": {},
     "output_type": "display_data"
    },
    {
     "data": {
      "application/javascript": [
       "requirejs([\"plotly\"], function(Plotly) {\n",
       "  (function () {\n",
       "  var data0 = {\"type\":\"bar\",\"x\":[\"GREEN\",\"RED\",\"YELLOW\"],\"y\":[0.04772727272727273,0.4281655844155844,0.457711038961039]};\n",
       "\n",
       "  var data = [data0];\n",
       "  var layout = {};\n",
       "\n",
       "  Plotly.plot('plot-1511046086', data, layout);\n",
       "})();\n",
       "});\n",
       "      "
      ]
     },
     "metadata": {},
     "output_type": "display_data"
    },
    {
     "data": {
      "text/plain": [
       "\u001b[36mres\u001b[39m: \u001b[32mHistogram\u001b[39m[\u001b[32mColor\u001b[39m] = HistogramImpl(Map(YELLOW -> 0.457711038961039, RED -> 0.4281655844155844, GREEN -> 0.04772727272727273))\n",
       "\u001b[36mres13_1\u001b[39m: \u001b[32mString\u001b[39m = \u001b[32m\"plot-1511046086\"\u001b[39m\n",
       "\u001b[36mres13_2\u001b[39m: \u001b[32mDouble\u001b[39m = \u001b[32m0.9235000254056485\u001b[39m"
      ]
     },
     "execution_count": 14,
     "metadata": {},
     "output_type": "execute_result"
    }
   ],
   "source": [
    "val res = q.execute(tiger).left.get\n",
    "res.draw\n",
    "tiger similar sea"
   ]
  },
  {
   "cell_type": "code",
   "execution_count": 26,
   "metadata": {},
   "outputs": [
    {
     "data": {
      "text/html": [
       "<div class=\"chart\" id=\"plot-1787311576\"></div>"
      ]
     },
     "metadata": {},
     "output_type": "display_data"
    },
    {
     "data": {
      "application/javascript": [
       "requirejs([\"plotly\"], function(Plotly) {\n",
       "  (function () {\n",
       "  var data0 = {\"type\":\"bar\",\"x\":[\"RED\",\"YELLOW\"],\"y\":[0.4281655844155844,0.457711038961039]};\n",
       "\n",
       "  var data = [data0];\n",
       "  var layout = {};\n",
       "\n",
       "  Plotly.plot('plot-1787311576', data, layout);\n",
       "})();\n",
       "});\n",
       "      "
      ]
     },
     "metadata": {},
     "output_type": "display_data"
    },
    {
     "data": {
      "text/plain": [
       "\u001b[36mquery\u001b[39m: \u001b[32mQuery\u001b[39m[\u001b[32mColor\u001b[39m] = ru.hse.se.ba.danilin.paul.histogram_model.queries.Query@3e66ca42\n",
       "\u001b[36mresult\u001b[39m: \u001b[32mHistogram\u001b[39m[\u001b[32mColor\u001b[39m] = HistogramImpl(Map(YELLOW -> 0.457711038961039, RED -> 0.4281655844155844))\n",
       "\u001b[36mres25_2\u001b[39m: \u001b[32mString\u001b[39m = \u001b[32m\"plot-1787311576\"\u001b[39m"
      ]
     },
     "execution_count": 26,
     "metadata": {},
     "output_type": "execute_result"
    }
   ],
   "source": [
    "val query = Query.fromString(\"red|yellow\")(aliases)\n",
    "val result = query.execute(imagesHists(\"tiger\")).left.get\n",
    "result.draw"
   ]
  },
  {
   "cell_type": "code",
   "execution_count": 28,
   "metadata": {
    "scrolled": false
   },
   "outputs": [
    {
     "data": {
      "text/html": [
       "<div class=\"chart\" id=\"plot-1266091043\"></div>"
      ]
     },
     "metadata": {},
     "output_type": "display_data"
    },
    {
     "data": {
      "application/javascript": [
       "requirejs([\"plotly\"], function(Plotly) {\n",
       "  (function () {\n",
       "  var data0 = {\"type\":\"bar\",\"x\":[\"RED\",\"YELLOW\"],\"y\":[0.4811882989854875,0.4811882989854875]};\n",
       "\n",
       "  var data = [data0];\n",
       "  var layout = {};\n",
       "\n",
       "  Plotly.plot('plot-1266091043', data, layout);\n",
       "})();\n",
       "});\n",
       "      "
      ]
     },
     "metadata": {},
     "output_type": "display_data"
    },
    {
     "data": {
      "text/plain": [
       "\u001b[36mnewQuery\u001b[39m: \u001b[32mQuery\u001b[39m[\u001b[32mColor\u001b[39m] = ru.hse.se.ba.danilin.paul.histogram_model.queries.Query@55fc57e2\n",
       "\u001b[36mresult\u001b[39m: \u001b[32mHistogram\u001b[39m[\u001b[32mColor\u001b[39m] = HistogramImpl(Map(YELLOW -> 0.4811882989854875, RED -> 0.4811882989854875))\n",
       "\u001b[36mres27_2\u001b[39m: \u001b[32mString\u001b[39m = \u001b[32m\"plot-1266091043\"\u001b[39m"
      ]
     },
     "execution_count": 28,
     "metadata": {},
     "output_type": "execute_result"
    }
   ],
   "source": [
    "val newQuery = new Query(query.injectHistogram(imagesHists(\"sea\")))\n",
    "val result = newQuery.execute(imagesHists(\"tiger\")).left.get\n",
    "result.draw"
   ]
  },
  {
   "cell_type": "code",
   "execution_count": 16,
   "metadata": {},
   "outputs": [
    {
     "data": {
      "text/html": [
       "<div class=\"chart\" id=\"plot-1179854604\"></div>"
      ]
     },
     "metadata": {},
     "output_type": "display_data"
    },
    {
     "data": {
      "application/javascript": [
       "requirejs([\"plotly\"], function(Plotly) {\n",
       "  (function () {\n",
       "  var data0 = {\"type\":\"bar\",\"x\":[\"BLUE\",\"CYAN\",\"GREEN\",\"MAGENTA\",\"RED\",\"YELLOW\"],\"y\":[0.0012987012987012987,0.002922077922077922,0.04772727272727273,0.062175324675324675,0.4811882989854875,0.4811882989854875]};\n",
       "\n",
       "  var data = [data0];\n",
       "  var layout = {};\n",
       "\n",
       "  Plotly.plot('plot-1179854604', data, layout);\n",
       "})();\n",
       "});\n",
       "      "
      ]
     },
     "metadata": {},
     "output_type": "display_data"
    },
    {
     "data": {
      "text/plain": [
       "\u001b[36mresult\u001b[39m: \u001b[32mHistogram\u001b[39m[\u001b[32mColor\u001b[39m] = HistogramImpl(Map(BLUE -> 0.0012987012987012987, CYAN -> 0.002922077922077922, YELLOW -> 0.4811882989854875, RED -> 0.4811882989854875, MAGENTA -> 0.062175324675324675, GREEN -> 0.04772727272727273))\n",
       "\u001b[36mres15_1\u001b[39m: \u001b[32mString\u001b[39m = \u001b[32m\"plot-1179854604\"\u001b[39m"
      ]
     },
     "execution_count": 16,
     "metadata": {},
     "output_type": "execute_result"
    }
   ],
   "source": [
    "val result = imagesHists(\"sea\") + imagesHists(\"tiger\")\n",
    "result.draw"
   ]
  },
  {
   "cell_type": "code",
   "execution_count": 17,
   "metadata": {},
   "outputs": [
    {
     "data": {
      "text/plain": [
       "\u001b[36mres16\u001b[39m: \u001b[32mDouble\u001b[39m = \u001b[32m0.0012987012987012987\u001b[39m"
      ]
     },
     "execution_count": 17,
     "metadata": {},
     "output_type": "execute_result"
    }
   ],
   "source": [
    "result(Blue)"
   ]
  },
  {
   "cell_type": "code",
   "execution_count": 18,
   "metadata": {},
   "outputs": [
    {
     "data": {
      "text/plain": [
       "\u001b[36mres17\u001b[39m: \u001b[32mDouble\u001b[39m = \u001b[32m0.9235000254056485\u001b[39m"
      ]
     },
     "execution_count": 18,
     "metadata": {},
     "output_type": "execute_result"
    }
   ],
   "source": [
    "imagesHists(\"sea\") similar imagesHists(\"tiger\")"
   ]
  },
  {
   "cell_type": "code",
   "execution_count": 24,
   "metadata": {},
   "outputs": [
    {
     "data": {
      "text/plain": [
       "\u001b[32mimport \u001b[39m\u001b[36mru.hse.se.ba.danilin.paul.histogram_model.histogram.Implicits._\n",
       "\u001b[39m\n",
       "\u001b[32mimport \u001b[39m\u001b[36morg.json4s.native.Serialization.{write, read => readJson}\n",
       "\u001b[39m\n",
       "\u001b[32mimport \u001b[39m\u001b[36mjava.io.PrintWriter\n",
       "\n",
       "\u001b[39m\n",
       "\u001b[36mjson\u001b[39m: \u001b[32mString\u001b[39m = \u001b[32m\"\"\"\n",
       "{\"histogram\":{\"GREEN\":0.04772727272727273,\"BLUE\":0.0012987012987012987,\"CYAN\":0.002922077922077922,\"YELLOW\":0.4811882989854875,\"RED\":0.4811882989854875,\"MAGENTA\":0.062175324675324675}}\n",
       "\"\"\"\u001b[39m\n",
       "\u001b[36mwriter\u001b[39m: \u001b[32mPrintWriter\u001b[39m = java.io.PrintWriter@464ed468"
      ]
     },
     "execution_count": 24,
     "metadata": {},
     "output_type": "execute_result"
    }
   ],
   "source": [
    "import ru.hse.se.ba.danilin.paul.histogram_model.histogram.Implicits._\n",
    "import org.json4s.native.Serialization.{write, read => readJson}\n",
    "import java.io.PrintWriter\n",
    "\n",
    "val json = write(result)\n",
    "val writer = new PrintWriter(new File(\"test result.json\"))\n",
    "writer.write(json)\n",
    "writer.close()"
   ]
  },
  {
   "cell_type": "code",
   "execution_count": 23,
   "metadata": {},
   "outputs": [
    {
     "data": {
      "text/plain": [
       "\u001b[36mwriter\u001b[39m: \u001b[32mPrintWriter\u001b[39m = java.io.PrintWriter@4997974"
      ]
     },
     "execution_count": 23,
     "metadata": {},
     "output_type": "execute_result"
    }
   ],
   "source": [
    "val writer = new PrintWriter(new File(\"test result.txt\"))\n",
    "writer.write(imagesHists(\"sea\") similar imagesHists(\"tiger\") toString)\n",
    "writer.close()"
   ]
  }
 ],
 "metadata": {
  "kernelspec": {
   "display_name": "Scala",
   "language": "scala",
   "name": "scala"
  },
  "language_info": {
   "codemirror_mode": "text/x-scala",
   "file_extension": ".scala",
   "mimetype": "text/x-scala",
   "name": "scala211",
   "nbconvert_exporter": "script",
   "pygments_lexer": "scala",
   "version": "2.11.11"
  }
 },
 "nbformat": 4,
 "nbformat_minor": 2
}
